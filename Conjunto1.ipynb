{
 "cells": [
  {
   "cell_type": "markdown",
   "id": "31d34679",
   "metadata": {},
   "source": [
    "# Introdução"
   ]
  },
  {
   "cell_type": "markdown",
   "id": "7cb9520d",
   "metadata": {},
   "source": [
    "#### Aluna: Júlia Roberta Quoos Alves \n",
    "#### Conjunto de dados: Online Shoppers Purchasing Intention Dataset Data Set\n",
    "#### Data: 10/05/2023"
   ]
  },
  {
   "cell_type": "code",
   "execution_count": null,
   "id": "540d4451",
   "metadata": {},
   "outputs": [],
   "source": [
    "# Instalação e importação das bibliotecas \n",
    "# pip install pycaret"
   ]
  },
  {
   "cell_type": "code",
   "execution_count": 1,
   "id": "8a64ed03",
   "metadata": {},
   "outputs": [],
   "source": [
    "import pandas as pd\n",
    "import numpy as np\n",
    "import matplotlib.pyplot as plt\n",
    "from pycaret.classification import *\n",
    "\n",
    "from sklearn.model_selection import train_test_split\n",
    "from sklearn.model_selection import cross_val_predict\n",
    "from sklearn.model_selection import cross_val_score\n",
    "from sklearn.model_selection import cross_validate\n",
    "\n",
    "from sklearn.preprocessing import LabelEncoder\n",
    "from sklearn.preprocessing import MinMaxScaler\n",
    "\n",
    "from sklearn.metrics import confusion_matrix\n",
    "from sklearn.metrics import classification_report\n",
    "from sklearn.metrics import accuracy_score\n",
    "from sklearn.metrics import classification_report, confusion_matrix\n",
    "\n",
    "from sklearn.naive_bayes import GaussianNB\n",
    "from sklearn.naive_bayes import ComplementNB\n",
    "from sklearn.naive_bayes import BernoulliNB\n",
    "from sklearn.naive_bayes import CategoricalNB \n",
    "\n",
    "from sklearn.ensemble import GradientBoostingClassifier\n",
    "from sklearn.linear_model import LogisticRegression"
   ]
  },
  {
   "cell_type": "code",
   "execution_count": 2,
   "id": "855a1bdd",
   "metadata": {},
   "outputs": [
    {
     "data": {
      "text/html": [
       "<div>\n",
       "<style scoped>\n",
       "    .dataframe tbody tr th:only-of-type {\n",
       "        vertical-align: middle;\n",
       "    }\n",
       "\n",
       "    .dataframe tbody tr th {\n",
       "        vertical-align: top;\n",
       "    }\n",
       "\n",
       "    .dataframe thead th {\n",
       "        text-align: right;\n",
       "    }\n",
       "</style>\n",
       "<table border=\"1\" class=\"dataframe\">\n",
       "  <thead>\n",
       "    <tr style=\"text-align: right;\">\n",
       "      <th></th>\n",
       "      <th>Administrative</th>\n",
       "      <th>Administrative_Duration</th>\n",
       "      <th>Informational</th>\n",
       "      <th>Informational_Duration</th>\n",
       "      <th>ProductRelated</th>\n",
       "      <th>ProductRelated_Duration</th>\n",
       "      <th>BounceRates</th>\n",
       "      <th>ExitRates</th>\n",
       "      <th>PageValues</th>\n",
       "      <th>SpecialDay</th>\n",
       "      <th>Month</th>\n",
       "      <th>OperatingSystems</th>\n",
       "      <th>Browser</th>\n",
       "      <th>Region</th>\n",
       "      <th>TrafficType</th>\n",
       "      <th>VisitorType</th>\n",
       "      <th>Weekend</th>\n",
       "      <th>Revenue</th>\n",
       "    </tr>\n",
       "  </thead>\n",
       "  <tbody>\n",
       "    <tr>\n",
       "      <th>0</th>\n",
       "      <td>0</td>\n",
       "      <td>0.0</td>\n",
       "      <td>0</td>\n",
       "      <td>0.0</td>\n",
       "      <td>1</td>\n",
       "      <td>0.000000</td>\n",
       "      <td>0.20</td>\n",
       "      <td>0.20</td>\n",
       "      <td>0.0</td>\n",
       "      <td>0.0</td>\n",
       "      <td>Feb</td>\n",
       "      <td>1</td>\n",
       "      <td>1</td>\n",
       "      <td>1</td>\n",
       "      <td>1</td>\n",
       "      <td>Returning_Visitor</td>\n",
       "      <td>False</td>\n",
       "      <td>False</td>\n",
       "    </tr>\n",
       "    <tr>\n",
       "      <th>1</th>\n",
       "      <td>0</td>\n",
       "      <td>0.0</td>\n",
       "      <td>0</td>\n",
       "      <td>0.0</td>\n",
       "      <td>2</td>\n",
       "      <td>64.000000</td>\n",
       "      <td>0.00</td>\n",
       "      <td>0.10</td>\n",
       "      <td>0.0</td>\n",
       "      <td>0.0</td>\n",
       "      <td>Feb</td>\n",
       "      <td>2</td>\n",
       "      <td>2</td>\n",
       "      <td>1</td>\n",
       "      <td>2</td>\n",
       "      <td>Returning_Visitor</td>\n",
       "      <td>False</td>\n",
       "      <td>False</td>\n",
       "    </tr>\n",
       "    <tr>\n",
       "      <th>2</th>\n",
       "      <td>0</td>\n",
       "      <td>0.0</td>\n",
       "      <td>0</td>\n",
       "      <td>0.0</td>\n",
       "      <td>1</td>\n",
       "      <td>0.000000</td>\n",
       "      <td>0.20</td>\n",
       "      <td>0.20</td>\n",
       "      <td>0.0</td>\n",
       "      <td>0.0</td>\n",
       "      <td>Feb</td>\n",
       "      <td>4</td>\n",
       "      <td>1</td>\n",
       "      <td>9</td>\n",
       "      <td>3</td>\n",
       "      <td>Returning_Visitor</td>\n",
       "      <td>False</td>\n",
       "      <td>False</td>\n",
       "    </tr>\n",
       "    <tr>\n",
       "      <th>3</th>\n",
       "      <td>0</td>\n",
       "      <td>0.0</td>\n",
       "      <td>0</td>\n",
       "      <td>0.0</td>\n",
       "      <td>2</td>\n",
       "      <td>2.666667</td>\n",
       "      <td>0.05</td>\n",
       "      <td>0.14</td>\n",
       "      <td>0.0</td>\n",
       "      <td>0.0</td>\n",
       "      <td>Feb</td>\n",
       "      <td>3</td>\n",
       "      <td>2</td>\n",
       "      <td>2</td>\n",
       "      <td>4</td>\n",
       "      <td>Returning_Visitor</td>\n",
       "      <td>False</td>\n",
       "      <td>False</td>\n",
       "    </tr>\n",
       "    <tr>\n",
       "      <th>4</th>\n",
       "      <td>0</td>\n",
       "      <td>0.0</td>\n",
       "      <td>0</td>\n",
       "      <td>0.0</td>\n",
       "      <td>10</td>\n",
       "      <td>627.500000</td>\n",
       "      <td>0.02</td>\n",
       "      <td>0.05</td>\n",
       "      <td>0.0</td>\n",
       "      <td>0.0</td>\n",
       "      <td>Feb</td>\n",
       "      <td>3</td>\n",
       "      <td>3</td>\n",
       "      <td>1</td>\n",
       "      <td>4</td>\n",
       "      <td>Returning_Visitor</td>\n",
       "      <td>True</td>\n",
       "      <td>False</td>\n",
       "    </tr>\n",
       "  </tbody>\n",
       "</table>\n",
       "</div>"
      ],
      "text/plain": [
       "   Administrative  Administrative_Duration  Informational  \\\n",
       "0               0                      0.0              0   \n",
       "1               0                      0.0              0   \n",
       "2               0                      0.0              0   \n",
       "3               0                      0.0              0   \n",
       "4               0                      0.0              0   \n",
       "\n",
       "   Informational_Duration  ProductRelated  ProductRelated_Duration  \\\n",
       "0                     0.0               1                 0.000000   \n",
       "1                     0.0               2                64.000000   \n",
       "2                     0.0               1                 0.000000   \n",
       "3                     0.0               2                 2.666667   \n",
       "4                     0.0              10               627.500000   \n",
       "\n",
       "   BounceRates  ExitRates  PageValues  SpecialDay Month  OperatingSystems  \\\n",
       "0         0.20       0.20         0.0         0.0   Feb                 1   \n",
       "1         0.00       0.10         0.0         0.0   Feb                 2   \n",
       "2         0.20       0.20         0.0         0.0   Feb                 4   \n",
       "3         0.05       0.14         0.0         0.0   Feb                 3   \n",
       "4         0.02       0.05         0.0         0.0   Feb                 3   \n",
       "\n",
       "   Browser  Region  TrafficType        VisitorType  Weekend  Revenue  \n",
       "0        1       1            1  Returning_Visitor    False    False  \n",
       "1        2       1            2  Returning_Visitor    False    False  \n",
       "2        1       9            3  Returning_Visitor    False    False  \n",
       "3        2       2            4  Returning_Visitor    False    False  \n",
       "4        3       1            4  Returning_Visitor     True    False  "
      ]
     },
     "execution_count": 2,
     "metadata": {},
     "output_type": "execute_result"
    }
   ],
   "source": [
    "# Importação do Conjunto de dados 1: Online Shoppers Purchasing Intention Dataset Data Set\n",
    "dados = pd.read_csv('online_shoppers_intention.csv', sep=',')\n",
    "dados.head()"
   ]
  },
  {
   "cell_type": "code",
   "execution_count": 3,
   "id": "b1f7cefd",
   "metadata": {},
   "outputs": [
    {
     "data": {
      "text/html": [
       "<div>\n",
       "<style scoped>\n",
       "    .dataframe tbody tr th:only-of-type {\n",
       "        vertical-align: middle;\n",
       "    }\n",
       "\n",
       "    .dataframe tbody tr th {\n",
       "        vertical-align: top;\n",
       "    }\n",
       "\n",
       "    .dataframe thead th {\n",
       "        text-align: right;\n",
       "    }\n",
       "</style>\n",
       "<table border=\"1\" class=\"dataframe\">\n",
       "  <thead>\n",
       "    <tr style=\"text-align: right;\">\n",
       "      <th></th>\n",
       "      <th>Administrative</th>\n",
       "      <th>Administrative_Duration</th>\n",
       "      <th>Informational</th>\n",
       "      <th>Informational_Duration</th>\n",
       "      <th>ProductRelated</th>\n",
       "      <th>ProductRelated_Duration</th>\n",
       "      <th>BounceRates</th>\n",
       "      <th>ExitRates</th>\n",
       "      <th>PageValues</th>\n",
       "      <th>SpecialDay</th>\n",
       "      <th>OperatingSystems</th>\n",
       "      <th>Browser</th>\n",
       "      <th>Region</th>\n",
       "      <th>TrafficType</th>\n",
       "    </tr>\n",
       "  </thead>\n",
       "  <tbody>\n",
       "    <tr>\n",
       "      <th>count</th>\n",
       "      <td>12330.000000</td>\n",
       "      <td>12330.000000</td>\n",
       "      <td>12330.000000</td>\n",
       "      <td>12330.000000</td>\n",
       "      <td>12330.000000</td>\n",
       "      <td>12330.000000</td>\n",
       "      <td>12330.000000</td>\n",
       "      <td>12330.000000</td>\n",
       "      <td>12330.000000</td>\n",
       "      <td>12330.000000</td>\n",
       "      <td>12330.000000</td>\n",
       "      <td>12330.000000</td>\n",
       "      <td>12330.000000</td>\n",
       "      <td>12330.000000</td>\n",
       "    </tr>\n",
       "    <tr>\n",
       "      <th>mean</th>\n",
       "      <td>2.315166</td>\n",
       "      <td>80.818611</td>\n",
       "      <td>0.503569</td>\n",
       "      <td>34.472398</td>\n",
       "      <td>31.731468</td>\n",
       "      <td>1194.746220</td>\n",
       "      <td>0.022191</td>\n",
       "      <td>0.043073</td>\n",
       "      <td>5.889258</td>\n",
       "      <td>0.061427</td>\n",
       "      <td>2.124006</td>\n",
       "      <td>2.357097</td>\n",
       "      <td>3.147364</td>\n",
       "      <td>4.069586</td>\n",
       "    </tr>\n",
       "    <tr>\n",
       "      <th>std</th>\n",
       "      <td>3.321784</td>\n",
       "      <td>176.779107</td>\n",
       "      <td>1.270156</td>\n",
       "      <td>140.749294</td>\n",
       "      <td>44.475503</td>\n",
       "      <td>1913.669288</td>\n",
       "      <td>0.048488</td>\n",
       "      <td>0.048597</td>\n",
       "      <td>18.568437</td>\n",
       "      <td>0.198917</td>\n",
       "      <td>0.911325</td>\n",
       "      <td>1.717277</td>\n",
       "      <td>2.401591</td>\n",
       "      <td>4.025169</td>\n",
       "    </tr>\n",
       "    <tr>\n",
       "      <th>min</th>\n",
       "      <td>0.000000</td>\n",
       "      <td>0.000000</td>\n",
       "      <td>0.000000</td>\n",
       "      <td>0.000000</td>\n",
       "      <td>0.000000</td>\n",
       "      <td>0.000000</td>\n",
       "      <td>0.000000</td>\n",
       "      <td>0.000000</td>\n",
       "      <td>0.000000</td>\n",
       "      <td>0.000000</td>\n",
       "      <td>1.000000</td>\n",
       "      <td>1.000000</td>\n",
       "      <td>1.000000</td>\n",
       "      <td>1.000000</td>\n",
       "    </tr>\n",
       "    <tr>\n",
       "      <th>25%</th>\n",
       "      <td>0.000000</td>\n",
       "      <td>0.000000</td>\n",
       "      <td>0.000000</td>\n",
       "      <td>0.000000</td>\n",
       "      <td>7.000000</td>\n",
       "      <td>184.137500</td>\n",
       "      <td>0.000000</td>\n",
       "      <td>0.014286</td>\n",
       "      <td>0.000000</td>\n",
       "      <td>0.000000</td>\n",
       "      <td>2.000000</td>\n",
       "      <td>2.000000</td>\n",
       "      <td>1.000000</td>\n",
       "      <td>2.000000</td>\n",
       "    </tr>\n",
       "    <tr>\n",
       "      <th>50%</th>\n",
       "      <td>1.000000</td>\n",
       "      <td>7.500000</td>\n",
       "      <td>0.000000</td>\n",
       "      <td>0.000000</td>\n",
       "      <td>18.000000</td>\n",
       "      <td>598.936905</td>\n",
       "      <td>0.003112</td>\n",
       "      <td>0.025156</td>\n",
       "      <td>0.000000</td>\n",
       "      <td>0.000000</td>\n",
       "      <td>2.000000</td>\n",
       "      <td>2.000000</td>\n",
       "      <td>3.000000</td>\n",
       "      <td>2.000000</td>\n",
       "    </tr>\n",
       "    <tr>\n",
       "      <th>75%</th>\n",
       "      <td>4.000000</td>\n",
       "      <td>93.256250</td>\n",
       "      <td>0.000000</td>\n",
       "      <td>0.000000</td>\n",
       "      <td>38.000000</td>\n",
       "      <td>1464.157214</td>\n",
       "      <td>0.016813</td>\n",
       "      <td>0.050000</td>\n",
       "      <td>0.000000</td>\n",
       "      <td>0.000000</td>\n",
       "      <td>3.000000</td>\n",
       "      <td>2.000000</td>\n",
       "      <td>4.000000</td>\n",
       "      <td>4.000000</td>\n",
       "    </tr>\n",
       "    <tr>\n",
       "      <th>max</th>\n",
       "      <td>27.000000</td>\n",
       "      <td>3398.750000</td>\n",
       "      <td>24.000000</td>\n",
       "      <td>2549.375000</td>\n",
       "      <td>705.000000</td>\n",
       "      <td>63973.522230</td>\n",
       "      <td>0.200000</td>\n",
       "      <td>0.200000</td>\n",
       "      <td>361.763742</td>\n",
       "      <td>1.000000</td>\n",
       "      <td>8.000000</td>\n",
       "      <td>13.000000</td>\n",
       "      <td>9.000000</td>\n",
       "      <td>20.000000</td>\n",
       "    </tr>\n",
       "  </tbody>\n",
       "</table>\n",
       "</div>"
      ],
      "text/plain": [
       "       Administrative  Administrative_Duration  Informational  \\\n",
       "count    12330.000000             12330.000000   12330.000000   \n",
       "mean         2.315166                80.818611       0.503569   \n",
       "std          3.321784               176.779107       1.270156   \n",
       "min          0.000000                 0.000000       0.000000   \n",
       "25%          0.000000                 0.000000       0.000000   \n",
       "50%          1.000000                 7.500000       0.000000   \n",
       "75%          4.000000                93.256250       0.000000   \n",
       "max         27.000000              3398.750000      24.000000   \n",
       "\n",
       "       Informational_Duration  ProductRelated  ProductRelated_Duration  \\\n",
       "count            12330.000000    12330.000000             12330.000000   \n",
       "mean                34.472398       31.731468              1194.746220   \n",
       "std                140.749294       44.475503              1913.669288   \n",
       "min                  0.000000        0.000000                 0.000000   \n",
       "25%                  0.000000        7.000000               184.137500   \n",
       "50%                  0.000000       18.000000               598.936905   \n",
       "75%                  0.000000       38.000000              1464.157214   \n",
       "max               2549.375000      705.000000             63973.522230   \n",
       "\n",
       "        BounceRates     ExitRates    PageValues    SpecialDay  \\\n",
       "count  12330.000000  12330.000000  12330.000000  12330.000000   \n",
       "mean       0.022191      0.043073      5.889258      0.061427   \n",
       "std        0.048488      0.048597     18.568437      0.198917   \n",
       "min        0.000000      0.000000      0.000000      0.000000   \n",
       "25%        0.000000      0.014286      0.000000      0.000000   \n",
       "50%        0.003112      0.025156      0.000000      0.000000   \n",
       "75%        0.016813      0.050000      0.000000      0.000000   \n",
       "max        0.200000      0.200000    361.763742      1.000000   \n",
       "\n",
       "       OperatingSystems       Browser        Region   TrafficType  \n",
       "count      12330.000000  12330.000000  12330.000000  12330.000000  \n",
       "mean           2.124006      2.357097      3.147364      4.069586  \n",
       "std            0.911325      1.717277      2.401591      4.025169  \n",
       "min            1.000000      1.000000      1.000000      1.000000  \n",
       "25%            2.000000      2.000000      1.000000      2.000000  \n",
       "50%            2.000000      2.000000      3.000000      2.000000  \n",
       "75%            3.000000      2.000000      4.000000      4.000000  \n",
       "max            8.000000     13.000000      9.000000     20.000000  "
      ]
     },
     "execution_count": 3,
     "metadata": {},
     "output_type": "execute_result"
    }
   ],
   "source": [
    "dados.describe()"
   ]
  },
  {
   "cell_type": "markdown",
   "id": "f46740bc",
   "metadata": {},
   "source": [
    "# Limpeza dos dados"
   ]
  },
  {
   "cell_type": "markdown",
   "id": "1abff8f0",
   "metadata": {},
   "source": [
    "### Vendo o tipo das variáveis"
   ]
  },
  {
   "cell_type": "code",
   "execution_count": 4,
   "id": "7e88704b",
   "metadata": {
    "scrolled": true
   },
   "outputs": [
    {
     "data": {
      "text/plain": [
       "Administrative             0\n",
       "Administrative_Duration    0\n",
       "Informational              0\n",
       "Informational_Duration     0\n",
       "ProductRelated             0\n",
       "ProductRelated_Duration    0\n",
       "BounceRates                0\n",
       "ExitRates                  0\n",
       "PageValues                 0\n",
       "SpecialDay                 0\n",
       "Month                      0\n",
       "OperatingSystems           0\n",
       "Browser                    0\n",
       "Region                     0\n",
       "TrafficType                0\n",
       "VisitorType                0\n",
       "Weekend                    0\n",
       "Revenue                    0\n",
       "dtype: int64"
      ]
     },
     "execution_count": 4,
     "metadata": {},
     "output_type": "execute_result"
    }
   ],
   "source": [
    "# Verificando a existência de nulos\n",
    "dados.isnull().sum()"
   ]
  },
  {
   "cell_type": "code",
   "execution_count": 5,
   "id": "31c3261b",
   "metadata": {},
   "outputs": [
    {
     "data": {
      "text/plain": [
       "Administrative               int64\n",
       "Administrative_Duration    float64\n",
       "Informational                int64\n",
       "Informational_Duration     float64\n",
       "ProductRelated               int64\n",
       "ProductRelated_Duration    float64\n",
       "BounceRates                float64\n",
       "ExitRates                  float64\n",
       "PageValues                 float64\n",
       "SpecialDay                 float64\n",
       "Month                       object\n",
       "OperatingSystems             int64\n",
       "Browser                      int64\n",
       "Region                       int64\n",
       "TrafficType                  int64\n",
       "VisitorType                 object\n",
       "Weekend                       bool\n",
       "Revenue                       bool\n",
       "dtype: object"
      ]
     },
     "execution_count": 5,
     "metadata": {},
     "output_type": "execute_result"
    }
   ],
   "source": [
    "# Mostrando os tipos dos dados\n",
    "dados.dtypes"
   ]
  },
  {
   "cell_type": "code",
   "execution_count": 6,
   "id": "1160212a",
   "metadata": {},
   "outputs": [
    {
     "data": {
      "text/plain": [
       "VisitorType\n",
       "New_Visitor           1694\n",
       "Other                   85\n",
       "Returning_Visitor    10551\n",
       "dtype: int64"
      ]
     },
     "execution_count": 6,
     "metadata": {},
     "output_type": "execute_result"
    }
   ],
   "source": [
    "#Mudando o tipo de variável do VisitorType\n",
    "dados.groupby(['VisitorType']).size()"
   ]
  },
  {
   "cell_type": "code",
   "execution_count": 7,
   "id": "73d25404",
   "metadata": {
    "scrolled": false
   },
   "outputs": [
    {
     "data": {
      "text/plain": [
       "0        2\n",
       "1        2\n",
       "2        2\n",
       "3        2\n",
       "4        2\n",
       "        ..\n",
       "12325    2\n",
       "12326    2\n",
       "12327    2\n",
       "12328    2\n",
       "12329    0\n",
       "Name: VisitorType, Length: 12330, dtype: int32"
      ]
     },
     "execution_count": 7,
     "metadata": {},
     "output_type": "execute_result"
    }
   ],
   "source": [
    "labelencoder = LabelEncoder()\n",
    "dados['VisitorType'] = labelencoder.fit_transform(dados['VisitorType'])\n",
    "dados['VisitorType']"
   ]
  },
  {
   "cell_type": "code",
   "execution_count": 8,
   "id": "69a2646e",
   "metadata": {},
   "outputs": [
    {
     "data": {
      "text/plain": [
       "Month\n",
       "Aug      433\n",
       "Dec     1727\n",
       "Feb      184\n",
       "Jul      432\n",
       "June     288\n",
       "Mar     1907\n",
       "May     3364\n",
       "Nov     2998\n",
       "Oct      549\n",
       "Sep      448\n",
       "dtype: int64"
      ]
     },
     "execution_count": 8,
     "metadata": {},
     "output_type": "execute_result"
    }
   ],
   "source": [
    "#Mudando o tipo de variável do Month\n",
    "dados.groupby(['Month']).size()"
   ]
  },
  {
   "cell_type": "code",
   "execution_count": 9,
   "id": "38234c9f",
   "metadata": {},
   "outputs": [
    {
     "data": {
      "text/plain": [
       "0        2\n",
       "1        2\n",
       "2        2\n",
       "3        2\n",
       "4        2\n",
       "        ..\n",
       "12325    1\n",
       "12326    7\n",
       "12327    7\n",
       "12328    7\n",
       "12329    7\n",
       "Name: Month, Length: 12330, dtype: int32"
      ]
     },
     "execution_count": 9,
     "metadata": {},
     "output_type": "execute_result"
    }
   ],
   "source": [
    "labelencoder = LabelEncoder()\n",
    "dados['Month'] = labelencoder.fit_transform(dados['Month'])\n",
    "dados['Month']"
   ]
  },
  {
   "cell_type": "code",
   "execution_count": 10,
   "id": "b076ce1c",
   "metadata": {},
   "outputs": [
    {
     "data": {
      "text/plain": [
       "0        0\n",
       "1        0\n",
       "2        0\n",
       "3        0\n",
       "4        0\n",
       "        ..\n",
       "12325    0\n",
       "12326    0\n",
       "12327    0\n",
       "12328    0\n",
       "12329    0\n",
       "Name: Revenue, Length: 12330, dtype: int64"
      ]
     },
     "execution_count": 10,
     "metadata": {},
     "output_type": "execute_result"
    }
   ],
   "source": [
    "labelencoder = LabelEncoder()\n",
    "dados['Revenue'] = labelencoder.fit_transform(dados['Revenue'])\n",
    "dados['Revenue']"
   ]
  },
  {
   "cell_type": "code",
   "execution_count": 11,
   "id": "46d46dbe",
   "metadata": {},
   "outputs": [
    {
     "data": {
      "text/plain": [
       "Administrative               int64\n",
       "Administrative_Duration    float64\n",
       "Informational                int64\n",
       "Informational_Duration     float64\n",
       "ProductRelated               int64\n",
       "ProductRelated_Duration    float64\n",
       "BounceRates                float64\n",
       "ExitRates                  float64\n",
       "PageValues                 float64\n",
       "SpecialDay                 float64\n",
       "Month                        int32\n",
       "OperatingSystems             int64\n",
       "Browser                      int64\n",
       "Region                       int64\n",
       "TrafficType                  int64\n",
       "VisitorType                  int32\n",
       "Weekend                       bool\n",
       "Revenue                      int64\n",
       "dtype: object"
      ]
     },
     "execution_count": 11,
     "metadata": {},
     "output_type": "execute_result"
    }
   ],
   "source": [
    "# Visualizando novamente os tipos de dados\n",
    "dados.dtypes"
   ]
  },
  {
   "cell_type": "markdown",
   "id": "93079d17",
   "metadata": {},
   "source": [
    "# Classificação"
   ]
  },
  {
   "cell_type": "markdown",
   "id": "64ae80bd",
   "metadata": {},
   "source": [
    "## Separação em base de treino e base de teste"
   ]
  },
  {
   "cell_type": "code",
   "execution_count": 12,
   "id": "0aea78f4",
   "metadata": {},
   "outputs": [],
   "source": [
    "atributos = [\"ProductRelated\", \"ProductRelated_Duration\", \"BounceRates\", \"ExitRates\", \"SpecialDay\", \"Month\", \"OperatingSystems\", \"Browser\", \"Region\", \"TrafficType\", \"VisitorType\", \"Weekend\"]"
   ]
  },
  {
   "cell_type": "code",
   "execution_count": 13,
   "id": "db95a51e",
   "metadata": {},
   "outputs": [
    {
     "data": {
      "text/plain": [
       "Revenue\n",
       "0    10422\n",
       "1     1908\n",
       "dtype: int64"
      ]
     },
     "execution_count": 13,
     "metadata": {},
     "output_type": "execute_result"
    }
   ],
   "source": [
    "# Cuidar na hora de particionar a base para o teste \n",
    "# A base tem mais de 80% dos dados na classe 0\n",
    "dados.groupby(['Revenue']).size()"
   ]
  },
  {
   "cell_type": "code",
   "execution_count": 14,
   "id": "4d34a39c",
   "metadata": {},
   "outputs": [],
   "source": [
    "X = dados[atributos]\n",
    "y = dados['Revenue']"
   ]
  },
  {
   "cell_type": "code",
   "execution_count": 15,
   "id": "8879aab7",
   "metadata": {},
   "outputs": [],
   "source": [
    "#Garantindo que a base será proporcional\n",
    "treinamento_x, validacao_x, treinamento_y, validacao_y = train_test_split(X, y, test_size = 0.40, random_state=42,stratify=y)"
   ]
  },
  {
   "cell_type": "code",
   "execution_count": 16,
   "id": "4c9e67a4",
   "metadata": {},
   "outputs": [
    {
     "data": {
      "text/plain": [
       "0    84.522844\n",
       "1    15.477156\n",
       "Name: Revenue, dtype: float64"
      ]
     },
     "execution_count": 16,
     "metadata": {},
     "output_type": "execute_result"
    }
   ],
   "source": [
    "(treinamento_y.value_counts()/treinamento_y.shape[0])*100"
   ]
  },
  {
   "cell_type": "markdown",
   "id": "12e89cae",
   "metadata": {},
   "source": [
    "## Aplicando AutoML "
   ]
  },
  {
   "cell_type": "code",
   "execution_count": 17,
   "id": "e352bfd5",
   "metadata": {},
   "outputs": [
    {
     "data": {
      "text/html": [
       "<style type=\"text/css\">\n",
       "#T_b6ec1_row8_col1 {\n",
       "  background-color: lightgreen;\n",
       "}\n",
       "</style>\n",
       "<table id=\"T_b6ec1\">\n",
       "  <thead>\n",
       "    <tr>\n",
       "      <th class=\"blank level0\" >&nbsp;</th>\n",
       "      <th id=\"T_b6ec1_level0_col0\" class=\"col_heading level0 col0\" >Description</th>\n",
       "      <th id=\"T_b6ec1_level0_col1\" class=\"col_heading level0 col1\" >Value</th>\n",
       "    </tr>\n",
       "  </thead>\n",
       "  <tbody>\n",
       "    <tr>\n",
       "      <th id=\"T_b6ec1_level0_row0\" class=\"row_heading level0 row0\" >0</th>\n",
       "      <td id=\"T_b6ec1_row0_col0\" class=\"data row0 col0\" >Session id</td>\n",
       "      <td id=\"T_b6ec1_row0_col1\" class=\"data row0 col1\" >1419</td>\n",
       "    </tr>\n",
       "    <tr>\n",
       "      <th id=\"T_b6ec1_level0_row1\" class=\"row_heading level0 row1\" >1</th>\n",
       "      <td id=\"T_b6ec1_row1_col0\" class=\"data row1 col0\" >Target</td>\n",
       "      <td id=\"T_b6ec1_row1_col1\" class=\"data row1 col1\" >Revenue</td>\n",
       "    </tr>\n",
       "    <tr>\n",
       "      <th id=\"T_b6ec1_level0_row2\" class=\"row_heading level0 row2\" >2</th>\n",
       "      <td id=\"T_b6ec1_row2_col0\" class=\"data row2 col0\" >Target type</td>\n",
       "      <td id=\"T_b6ec1_row2_col1\" class=\"data row2 col1\" >Binary</td>\n",
       "    </tr>\n",
       "    <tr>\n",
       "      <th id=\"T_b6ec1_level0_row3\" class=\"row_heading level0 row3\" >3</th>\n",
       "      <td id=\"T_b6ec1_row3_col0\" class=\"data row3 col0\" >Original data shape</td>\n",
       "      <td id=\"T_b6ec1_row3_col1\" class=\"data row3 col1\" >(8261, 18)</td>\n",
       "    </tr>\n",
       "    <tr>\n",
       "      <th id=\"T_b6ec1_level0_row4\" class=\"row_heading level0 row4\" >4</th>\n",
       "      <td id=\"T_b6ec1_row4_col0\" class=\"data row4 col0\" >Transformed data shape</td>\n",
       "      <td id=\"T_b6ec1_row4_col1\" class=\"data row4 col1\" >(8261, 18)</td>\n",
       "    </tr>\n",
       "    <tr>\n",
       "      <th id=\"T_b6ec1_level0_row5\" class=\"row_heading level0 row5\" >5</th>\n",
       "      <td id=\"T_b6ec1_row5_col0\" class=\"data row5 col0\" >Transformed train set shape</td>\n",
       "      <td id=\"T_b6ec1_row5_col1\" class=\"data row5 col1\" >(5782, 18)</td>\n",
       "    </tr>\n",
       "    <tr>\n",
       "      <th id=\"T_b6ec1_level0_row6\" class=\"row_heading level0 row6\" >6</th>\n",
       "      <td id=\"T_b6ec1_row6_col0\" class=\"data row6 col0\" >Transformed test set shape</td>\n",
       "      <td id=\"T_b6ec1_row6_col1\" class=\"data row6 col1\" >(2479, 18)</td>\n",
       "    </tr>\n",
       "    <tr>\n",
       "      <th id=\"T_b6ec1_level0_row7\" class=\"row_heading level0 row7\" >7</th>\n",
       "      <td id=\"T_b6ec1_row7_col0\" class=\"data row7 col0\" >Numeric features</td>\n",
       "      <td id=\"T_b6ec1_row7_col1\" class=\"data row7 col1\" >16</td>\n",
       "    </tr>\n",
       "    <tr>\n",
       "      <th id=\"T_b6ec1_level0_row8\" class=\"row_heading level0 row8\" >8</th>\n",
       "      <td id=\"T_b6ec1_row8_col0\" class=\"data row8 col0\" >Preprocess</td>\n",
       "      <td id=\"T_b6ec1_row8_col1\" class=\"data row8 col1\" >True</td>\n",
       "    </tr>\n",
       "    <tr>\n",
       "      <th id=\"T_b6ec1_level0_row9\" class=\"row_heading level0 row9\" >9</th>\n",
       "      <td id=\"T_b6ec1_row9_col0\" class=\"data row9 col0\" >Imputation type</td>\n",
       "      <td id=\"T_b6ec1_row9_col1\" class=\"data row9 col1\" >simple</td>\n",
       "    </tr>\n",
       "    <tr>\n",
       "      <th id=\"T_b6ec1_level0_row10\" class=\"row_heading level0 row10\" >10</th>\n",
       "      <td id=\"T_b6ec1_row10_col0\" class=\"data row10 col0\" >Numeric imputation</td>\n",
       "      <td id=\"T_b6ec1_row10_col1\" class=\"data row10 col1\" >mean</td>\n",
       "    </tr>\n",
       "    <tr>\n",
       "      <th id=\"T_b6ec1_level0_row11\" class=\"row_heading level0 row11\" >11</th>\n",
       "      <td id=\"T_b6ec1_row11_col0\" class=\"data row11 col0\" >Categorical imputation</td>\n",
       "      <td id=\"T_b6ec1_row11_col1\" class=\"data row11 col1\" >mode</td>\n",
       "    </tr>\n",
       "    <tr>\n",
       "      <th id=\"T_b6ec1_level0_row12\" class=\"row_heading level0 row12\" >12</th>\n",
       "      <td id=\"T_b6ec1_row12_col0\" class=\"data row12 col0\" >Fold Generator</td>\n",
       "      <td id=\"T_b6ec1_row12_col1\" class=\"data row12 col1\" >StratifiedKFold</td>\n",
       "    </tr>\n",
       "    <tr>\n",
       "      <th id=\"T_b6ec1_level0_row13\" class=\"row_heading level0 row13\" >13</th>\n",
       "      <td id=\"T_b6ec1_row13_col0\" class=\"data row13 col0\" >Fold Number</td>\n",
       "      <td id=\"T_b6ec1_row13_col1\" class=\"data row13 col1\" >10</td>\n",
       "    </tr>\n",
       "    <tr>\n",
       "      <th id=\"T_b6ec1_level0_row14\" class=\"row_heading level0 row14\" >14</th>\n",
       "      <td id=\"T_b6ec1_row14_col0\" class=\"data row14 col0\" >CPU Jobs</td>\n",
       "      <td id=\"T_b6ec1_row14_col1\" class=\"data row14 col1\" >-1</td>\n",
       "    </tr>\n",
       "    <tr>\n",
       "      <th id=\"T_b6ec1_level0_row15\" class=\"row_heading level0 row15\" >15</th>\n",
       "      <td id=\"T_b6ec1_row15_col0\" class=\"data row15 col0\" >Use GPU</td>\n",
       "      <td id=\"T_b6ec1_row15_col1\" class=\"data row15 col1\" >False</td>\n",
       "    </tr>\n",
       "    <tr>\n",
       "      <th id=\"T_b6ec1_level0_row16\" class=\"row_heading level0 row16\" >16</th>\n",
       "      <td id=\"T_b6ec1_row16_col0\" class=\"data row16 col0\" >Log Experiment</td>\n",
       "      <td id=\"T_b6ec1_row16_col1\" class=\"data row16 col1\" >False</td>\n",
       "    </tr>\n",
       "    <tr>\n",
       "      <th id=\"T_b6ec1_level0_row17\" class=\"row_heading level0 row17\" >17</th>\n",
       "      <td id=\"T_b6ec1_row17_col0\" class=\"data row17 col0\" >Experiment Name</td>\n",
       "      <td id=\"T_b6ec1_row17_col1\" class=\"data row17 col1\" >clf-default-name</td>\n",
       "    </tr>\n",
       "    <tr>\n",
       "      <th id=\"T_b6ec1_level0_row18\" class=\"row_heading level0 row18\" >18</th>\n",
       "      <td id=\"T_b6ec1_row18_col0\" class=\"data row18 col0\" >USI</td>\n",
       "      <td id=\"T_b6ec1_row18_col1\" class=\"data row18 col1\" >37af</td>\n",
       "    </tr>\n",
       "  </tbody>\n",
       "</table>\n"
      ],
      "text/plain": [
       "<pandas.io.formats.style.Styler at 0x29f8f383410>"
      ]
     },
     "metadata": {},
     "output_type": "display_data"
    },
    {
     "data": {
      "text/html": [],
      "text/plain": [
       "<IPython.core.display.HTML object>"
      ]
     },
     "metadata": {},
     "output_type": "display_data"
    },
    {
     "data": {
      "text/html": [
       "<style type=\"text/css\">\n",
       "#T_236ab th {\n",
       "  text-align: left;\n",
       "}\n",
       "#T_236ab_row0_col0, #T_236ab_row0_col1, #T_236ab_row0_col3, #T_236ab_row0_col4, #T_236ab_row0_col5, #T_236ab_row0_col6, #T_236ab_row0_col7, #T_236ab_row1_col0, #T_236ab_row1_col1, #T_236ab_row1_col2, #T_236ab_row1_col3, #T_236ab_row1_col4, #T_236ab_row2_col0, #T_236ab_row2_col2, #T_236ab_row2_col3, #T_236ab_row2_col4, #T_236ab_row2_col5, #T_236ab_row2_col6, #T_236ab_row2_col7, #T_236ab_row3_col0, #T_236ab_row3_col1, #T_236ab_row3_col2, #T_236ab_row3_col3, #T_236ab_row3_col4, #T_236ab_row3_col5, #T_236ab_row3_col6, #T_236ab_row3_col7, #T_236ab_row4_col0, #T_236ab_row4_col1, #T_236ab_row4_col2, #T_236ab_row4_col3, #T_236ab_row4_col4, #T_236ab_row4_col5, #T_236ab_row4_col6, #T_236ab_row4_col7, #T_236ab_row5_col0, #T_236ab_row5_col1, #T_236ab_row5_col2, #T_236ab_row5_col3, #T_236ab_row5_col4, #T_236ab_row5_col5, #T_236ab_row5_col6, #T_236ab_row5_col7, #T_236ab_row6_col0, #T_236ab_row6_col1, #T_236ab_row6_col2, #T_236ab_row6_col3, #T_236ab_row6_col4, #T_236ab_row6_col5, #T_236ab_row6_col6, #T_236ab_row6_col7, #T_236ab_row7_col0, #T_236ab_row7_col1, #T_236ab_row7_col2, #T_236ab_row7_col3, #T_236ab_row7_col4, #T_236ab_row7_col5, #T_236ab_row7_col6, #T_236ab_row7_col7, #T_236ab_row8_col0, #T_236ab_row8_col1, #T_236ab_row8_col2, #T_236ab_row8_col4, #T_236ab_row8_col5, #T_236ab_row8_col6, #T_236ab_row8_col7, #T_236ab_row9_col0, #T_236ab_row9_col1, #T_236ab_row9_col2, #T_236ab_row9_col3, #T_236ab_row9_col4, #T_236ab_row9_col5, #T_236ab_row9_col6, #T_236ab_row9_col7, #T_236ab_row10_col0, #T_236ab_row10_col1, #T_236ab_row10_col2, #T_236ab_row10_col3, #T_236ab_row10_col4, #T_236ab_row10_col5, #T_236ab_row10_col6, #T_236ab_row10_col7, #T_236ab_row11_col0, #T_236ab_row11_col1, #T_236ab_row11_col2, #T_236ab_row11_col3, #T_236ab_row11_col4, #T_236ab_row11_col5, #T_236ab_row11_col6, #T_236ab_row11_col7, #T_236ab_row12_col0, #T_236ab_row12_col1, #T_236ab_row12_col2, #T_236ab_row12_col3, #T_236ab_row12_col4, #T_236ab_row12_col5, #T_236ab_row12_col6, #T_236ab_row12_col7, #T_236ab_row13_col0, #T_236ab_row13_col1, #T_236ab_row13_col2, #T_236ab_row13_col3, #T_236ab_row13_col5, #T_236ab_row13_col6, #T_236ab_row13_col7 {\n",
       "  text-align: left;\n",
       "}\n",
       "#T_236ab_row0_col2, #T_236ab_row1_col5, #T_236ab_row1_col6, #T_236ab_row1_col7, #T_236ab_row2_col1, #T_236ab_row8_col3, #T_236ab_row13_col4 {\n",
       "  text-align: left;\n",
       "  background-color: yellow;\n",
       "}\n",
       "#T_236ab_row0_col8, #T_236ab_row1_col8, #T_236ab_row2_col8, #T_236ab_row3_col8, #T_236ab_row4_col8, #T_236ab_row5_col8, #T_236ab_row6_col8, #T_236ab_row7_col8, #T_236ab_row8_col8, #T_236ab_row9_col8, #T_236ab_row10_col8, #T_236ab_row11_col8, #T_236ab_row12_col8 {\n",
       "  text-align: left;\n",
       "  background-color: lightgrey;\n",
       "}\n",
       "#T_236ab_row13_col8 {\n",
       "  text-align: left;\n",
       "  background-color: yellow;\n",
       "  background-color: lightgrey;\n",
       "}\n",
       "</style>\n",
       "<table id=\"T_236ab\">\n",
       "  <thead>\n",
       "    <tr>\n",
       "      <th class=\"blank level0\" >&nbsp;</th>\n",
       "      <th id=\"T_236ab_level0_col0\" class=\"col_heading level0 col0\" >Model</th>\n",
       "      <th id=\"T_236ab_level0_col1\" class=\"col_heading level0 col1\" >Accuracy</th>\n",
       "      <th id=\"T_236ab_level0_col2\" class=\"col_heading level0 col2\" >AUC</th>\n",
       "      <th id=\"T_236ab_level0_col3\" class=\"col_heading level0 col3\" >Recall</th>\n",
       "      <th id=\"T_236ab_level0_col4\" class=\"col_heading level0 col4\" >Prec.</th>\n",
       "      <th id=\"T_236ab_level0_col5\" class=\"col_heading level0 col5\" >F1</th>\n",
       "      <th id=\"T_236ab_level0_col6\" class=\"col_heading level0 col6\" >Kappa</th>\n",
       "      <th id=\"T_236ab_level0_col7\" class=\"col_heading level0 col7\" >MCC</th>\n",
       "      <th id=\"T_236ab_level0_col8\" class=\"col_heading level0 col8\" >TT (Sec)</th>\n",
       "    </tr>\n",
       "  </thead>\n",
       "  <tbody>\n",
       "    <tr>\n",
       "      <th id=\"T_236ab_level0_row0\" class=\"row_heading level0 row0\" >gbc</th>\n",
       "      <td id=\"T_236ab_row0_col0\" class=\"data row0 col0\" >Gradient Boosting Classifier</td>\n",
       "      <td id=\"T_236ab_row0_col1\" class=\"data row0 col1\" >0.8999</td>\n",
       "      <td id=\"T_236ab_row0_col2\" class=\"data row0 col2\" >0.9289</td>\n",
       "      <td id=\"T_236ab_row0_col3\" class=\"data row0 col3\" >0.6017</td>\n",
       "      <td id=\"T_236ab_row0_col4\" class=\"data row0 col4\" >0.7069</td>\n",
       "      <td id=\"T_236ab_row0_col5\" class=\"data row0 col5\" >0.6492</td>\n",
       "      <td id=\"T_236ab_row0_col6\" class=\"data row0 col6\" >0.5914</td>\n",
       "      <td id=\"T_236ab_row0_col7\" class=\"data row0 col7\" >0.5945</td>\n",
       "      <td id=\"T_236ab_row0_col8\" class=\"data row0 col8\" >0.6870</td>\n",
       "    </tr>\n",
       "    <tr>\n",
       "      <th id=\"T_236ab_level0_row1\" class=\"row_heading level0 row1\" >lightgbm</th>\n",
       "      <td id=\"T_236ab_row1_col0\" class=\"data row1 col0\" >Light Gradient Boosting Machine</td>\n",
       "      <td id=\"T_236ab_row1_col1\" class=\"data row1 col1\" >0.9030</td>\n",
       "      <td id=\"T_236ab_row1_col2\" class=\"data row1 col2\" >0.9258</td>\n",
       "      <td id=\"T_236ab_row1_col3\" class=\"data row1 col3\" >0.6084</td>\n",
       "      <td id=\"T_236ab_row1_col4\" class=\"data row1 col4\" >0.7205</td>\n",
       "      <td id=\"T_236ab_row1_col5\" class=\"data row1 col5\" >0.6592</td>\n",
       "      <td id=\"T_236ab_row1_col6\" class=\"data row1 col6\" >0.6032</td>\n",
       "      <td id=\"T_236ab_row1_col7\" class=\"data row1 col7\" >0.6064</td>\n",
       "      <td id=\"T_236ab_row1_col8\" class=\"data row1 col8\" >0.4720</td>\n",
       "    </tr>\n",
       "    <tr>\n",
       "      <th id=\"T_236ab_level0_row2\" class=\"row_heading level0 row2\" >rf</th>\n",
       "      <td id=\"T_236ab_row2_col0\" class=\"data row2 col0\" >Random Forest Classifier</td>\n",
       "      <td id=\"T_236ab_row2_col1\" class=\"data row2 col1\" >0.9038</td>\n",
       "      <td id=\"T_236ab_row2_col2\" class=\"data row2 col2\" >0.9232</td>\n",
       "      <td id=\"T_236ab_row2_col3\" class=\"data row2 col3\" >0.5749</td>\n",
       "      <td id=\"T_236ab_row2_col4\" class=\"data row2 col4\" >0.7447</td>\n",
       "      <td id=\"T_236ab_row2_col5\" class=\"data row2 col5\" >0.6485</td>\n",
       "      <td id=\"T_236ab_row2_col6\" class=\"data row2 col6\" >0.5939</td>\n",
       "      <td id=\"T_236ab_row2_col7\" class=\"data row2 col7\" >0.6008</td>\n",
       "      <td id=\"T_236ab_row2_col8\" class=\"data row2 col8\" >0.6720</td>\n",
       "    </tr>\n",
       "    <tr>\n",
       "      <th id=\"T_236ab_level0_row3\" class=\"row_heading level0 row3\" >et</th>\n",
       "      <td id=\"T_236ab_row3_col0\" class=\"data row3 col0\" >Extra Trees Classifier</td>\n",
       "      <td id=\"T_236ab_row3_col1\" class=\"data row3 col1\" >0.8976</td>\n",
       "      <td id=\"T_236ab_row3_col2\" class=\"data row3 col2\" >0.9179</td>\n",
       "      <td id=\"T_236ab_row3_col3\" class=\"data row3 col3\" >0.4954</td>\n",
       "      <td id=\"T_236ab_row3_col4\" class=\"data row3 col4\" >0.7584</td>\n",
       "      <td id=\"T_236ab_row3_col5\" class=\"data row3 col5\" >0.5979</td>\n",
       "      <td id=\"T_236ab_row3_col6\" class=\"data row3 col6\" >0.5424</td>\n",
       "      <td id=\"T_236ab_row3_col7\" class=\"data row3 col7\" >0.5593</td>\n",
       "      <td id=\"T_236ab_row3_col8\" class=\"data row3 col8\" >0.6350</td>\n",
       "    </tr>\n",
       "    <tr>\n",
       "      <th id=\"T_236ab_level0_row4\" class=\"row_heading level0 row4\" >ada</th>\n",
       "      <td id=\"T_236ab_row4_col0\" class=\"data row4 col0\" >Ada Boost Classifier</td>\n",
       "      <td id=\"T_236ab_row4_col1\" class=\"data row4 col1\" >0.8900</td>\n",
       "      <td id=\"T_236ab_row4_col2\" class=\"data row4 col2\" >0.9117</td>\n",
       "      <td id=\"T_236ab_row4_col3\" class=\"data row4 col3\" >0.5727</td>\n",
       "      <td id=\"T_236ab_row4_col4\" class=\"data row4 col4\" >0.6676</td>\n",
       "      <td id=\"T_236ab_row4_col5\" class=\"data row4 col5\" >0.6159</td>\n",
       "      <td id=\"T_236ab_row4_col6\" class=\"data row4 col6\" >0.5522</td>\n",
       "      <td id=\"T_236ab_row4_col7\" class=\"data row4 col7\" >0.5548</td>\n",
       "      <td id=\"T_236ab_row4_col8\" class=\"data row4 col8\" >0.5410</td>\n",
       "    </tr>\n",
       "    <tr>\n",
       "      <th id=\"T_236ab_level0_row5\" class=\"row_heading level0 row5\" >lda</th>\n",
       "      <td id=\"T_236ab_row5_col0\" class=\"data row5 col0\" >Linear Discriminant Analysis</td>\n",
       "      <td id=\"T_236ab_row5_col1\" class=\"data row5 col1\" >0.8805</td>\n",
       "      <td id=\"T_236ab_row5_col2\" class=\"data row5 col2\" >0.8929</td>\n",
       "      <td id=\"T_236ab_row5_col3\" class=\"data row5 col3\" >0.3478</td>\n",
       "      <td id=\"T_236ab_row5_col4\" class=\"data row5 col4\" >0.7427</td>\n",
       "      <td id=\"T_236ab_row5_col5\" class=\"data row5 col5\" >0.4721</td>\n",
       "      <td id=\"T_236ab_row5_col6\" class=\"data row5 col6\" >0.4149</td>\n",
       "      <td id=\"T_236ab_row5_col7\" class=\"data row5 col7\" >0.4536</td>\n",
       "      <td id=\"T_236ab_row5_col8\" class=\"data row5 col8\" >0.4290</td>\n",
       "    </tr>\n",
       "    <tr>\n",
       "      <th id=\"T_236ab_level0_row6\" class=\"row_heading level0 row6\" >lr</th>\n",
       "      <td id=\"T_236ab_row6_col0\" class=\"data row6 col0\" >Logistic Regression</td>\n",
       "      <td id=\"T_236ab_row6_col1\" class=\"data row6 col1\" >0.8827</td>\n",
       "      <td id=\"T_236ab_row6_col2\" class=\"data row6 col2\" >0.8770</td>\n",
       "      <td id=\"T_236ab_row6_col3\" class=\"data row6 col3\" >0.3836</td>\n",
       "      <td id=\"T_236ab_row6_col4\" class=\"data row6 col4\" >0.7305</td>\n",
       "      <td id=\"T_236ab_row6_col5\" class=\"data row6 col5\" >0.5015</td>\n",
       "      <td id=\"T_236ab_row6_col6\" class=\"data row6 col6\" >0.4426</td>\n",
       "      <td id=\"T_236ab_row6_col7\" class=\"data row6 col7\" >0.4728</td>\n",
       "      <td id=\"T_236ab_row6_col8\" class=\"data row6 col8\" >0.9530</td>\n",
       "    </tr>\n",
       "    <tr>\n",
       "      <th id=\"T_236ab_level0_row7\" class=\"row_heading level0 row7\" >nb</th>\n",
       "      <td id=\"T_236ab_row7_col0\" class=\"data row7 col0\" >Naive Bayes</td>\n",
       "      <td id=\"T_236ab_row7_col1\" class=\"data row7 col1\" >0.8476</td>\n",
       "      <td id=\"T_236ab_row7_col2\" class=\"data row7 col2\" >0.8411</td>\n",
       "      <td id=\"T_236ab_row7_col3\" class=\"data row7 col3\" >0.5659</td>\n",
       "      <td id=\"T_236ab_row7_col4\" class=\"data row7 col4\" >0.5073</td>\n",
       "      <td id=\"T_236ab_row7_col5\" class=\"data row7 col5\" >0.5341</td>\n",
       "      <td id=\"T_236ab_row7_col6\" class=\"data row7 col6\" >0.4435</td>\n",
       "      <td id=\"T_236ab_row7_col7\" class=\"data row7 col7\" >0.4450</td>\n",
       "      <td id=\"T_236ab_row7_col8\" class=\"data row7 col8\" >0.3920</td>\n",
       "    </tr>\n",
       "    <tr>\n",
       "      <th id=\"T_236ab_level0_row8\" class=\"row_heading level0 row8\" >qda</th>\n",
       "      <td id=\"T_236ab_row8_col0\" class=\"data row8 col0\" >Quadratic Discriminant Analysis</td>\n",
       "      <td id=\"T_236ab_row8_col1\" class=\"data row8 col1\" >0.8231</td>\n",
       "      <td id=\"T_236ab_row8_col2\" class=\"data row8 col2\" >0.8352</td>\n",
       "      <td id=\"T_236ab_row8_col3\" class=\"data row8 col3\" >0.6454</td>\n",
       "      <td id=\"T_236ab_row8_col4\" class=\"data row8 col4\" >0.4496</td>\n",
       "      <td id=\"T_236ab_row8_col5\" class=\"data row8 col5\" >0.5296</td>\n",
       "      <td id=\"T_236ab_row8_col6\" class=\"data row8 col6\" >0.4249</td>\n",
       "      <td id=\"T_236ab_row8_col7\" class=\"data row8 col7\" >0.4358</td>\n",
       "      <td id=\"T_236ab_row8_col8\" class=\"data row8 col8\" >0.4320</td>\n",
       "    </tr>\n",
       "    <tr>\n",
       "      <th id=\"T_236ab_level0_row9\" class=\"row_heading level0 row9\" >knn</th>\n",
       "      <td id=\"T_236ab_row9_col0\" class=\"data row9 col0\" >K Neighbors Classifier</td>\n",
       "      <td id=\"T_236ab_row9_col1\" class=\"data row9 col1\" >0.8568</td>\n",
       "      <td id=\"T_236ab_row9_col2\" class=\"data row9 col2\" >0.7474</td>\n",
       "      <td id=\"T_236ab_row9_col3\" class=\"data row9 col3\" >0.2673</td>\n",
       "      <td id=\"T_236ab_row9_col4\" class=\"data row9 col4\" >0.5788</td>\n",
       "      <td id=\"T_236ab_row9_col5\" class=\"data row9 col5\" >0.3643</td>\n",
       "      <td id=\"T_236ab_row9_col6\" class=\"data row9 col6\" >0.2962</td>\n",
       "      <td id=\"T_236ab_row9_col7\" class=\"data row9 col7\" >0.3249</td>\n",
       "      <td id=\"T_236ab_row9_col8\" class=\"data row9 col8\" >0.3910</td>\n",
       "    </tr>\n",
       "    <tr>\n",
       "      <th id=\"T_236ab_level0_row10\" class=\"row_heading level0 row10\" >dt</th>\n",
       "      <td id=\"T_236ab_row10_col0\" class=\"data row10 col0\" >Decision Tree Classifier</td>\n",
       "      <td id=\"T_236ab_row10_col1\" class=\"data row10 col1\" >0.8656</td>\n",
       "      <td id=\"T_236ab_row10_col2\" class=\"data row10 col2\" >0.7427</td>\n",
       "      <td id=\"T_236ab_row10_col3\" class=\"data row10 col3\" >0.5648</td>\n",
       "      <td id=\"T_236ab_row10_col4\" class=\"data row10 col4\" >0.5665</td>\n",
       "      <td id=\"T_236ab_row10_col5\" class=\"data row10 col5\" >0.5649</td>\n",
       "      <td id=\"T_236ab_row10_col6\" class=\"data row10 col6\" >0.4855</td>\n",
       "      <td id=\"T_236ab_row10_col7\" class=\"data row10 col7\" >0.4860</td>\n",
       "      <td id=\"T_236ab_row10_col8\" class=\"data row10 col8\" >0.4010</td>\n",
       "    </tr>\n",
       "    <tr>\n",
       "      <th id=\"T_236ab_level0_row11\" class=\"row_heading level0 row11\" >dummy</th>\n",
       "      <td id=\"T_236ab_row11_col0\" class=\"data row11 col0\" >Dummy Classifier</td>\n",
       "      <td id=\"T_236ab_row11_col1\" class=\"data row11 col1\" >0.8454</td>\n",
       "      <td id=\"T_236ab_row11_col2\" class=\"data row11 col2\" >0.5000</td>\n",
       "      <td id=\"T_236ab_row11_col3\" class=\"data row11 col3\" >0.0000</td>\n",
       "      <td id=\"T_236ab_row11_col4\" class=\"data row11 col4\" >0.0000</td>\n",
       "      <td id=\"T_236ab_row11_col5\" class=\"data row11 col5\" >0.0000</td>\n",
       "      <td id=\"T_236ab_row11_col6\" class=\"data row11 col6\" >0.0000</td>\n",
       "      <td id=\"T_236ab_row11_col7\" class=\"data row11 col7\" >0.0000</td>\n",
       "      <td id=\"T_236ab_row11_col8\" class=\"data row11 col8\" >0.4110</td>\n",
       "    </tr>\n",
       "    <tr>\n",
       "      <th id=\"T_236ab_level0_row12\" class=\"row_heading level0 row12\" >svm</th>\n",
       "      <td id=\"T_236ab_row12_col0\" class=\"data row12 col0\" >SVM - Linear Kernel</td>\n",
       "      <td id=\"T_236ab_row12_col1\" class=\"data row12 col1\" >0.7713</td>\n",
       "      <td id=\"T_236ab_row12_col2\" class=\"data row12 col2\" >0.0000</td>\n",
       "      <td id=\"T_236ab_row12_col3\" class=\"data row12 col3\" >0.4829</td>\n",
       "      <td id=\"T_236ab_row12_col4\" class=\"data row12 col4\" >0.6327</td>\n",
       "      <td id=\"T_236ab_row12_col5\" class=\"data row12 col5\" >0.3907</td>\n",
       "      <td id=\"T_236ab_row12_col6\" class=\"data row12 col6\" >0.2960</td>\n",
       "      <td id=\"T_236ab_row12_col7\" class=\"data row12 col7\" >0.3746</td>\n",
       "      <td id=\"T_236ab_row12_col8\" class=\"data row12 col8\" >0.4190</td>\n",
       "    </tr>\n",
       "    <tr>\n",
       "      <th id=\"T_236ab_level0_row13\" class=\"row_heading level0 row13\" >ridge</th>\n",
       "      <td id=\"T_236ab_row13_col0\" class=\"data row13 col0\" >Ridge Classifier</td>\n",
       "      <td id=\"T_236ab_row13_col1\" class=\"data row13 col1\" >0.8741</td>\n",
       "      <td id=\"T_236ab_row13_col2\" class=\"data row13 col2\" >0.0000</td>\n",
       "      <td id=\"T_236ab_row13_col3\" class=\"data row13 col3\" >0.2583</td>\n",
       "      <td id=\"T_236ab_row13_col4\" class=\"data row13 col4\" >0.7798</td>\n",
       "      <td id=\"T_236ab_row13_col5\" class=\"data row13 col5\" >0.3866</td>\n",
       "      <td id=\"T_236ab_row13_col6\" class=\"data row13 col6\" >0.3360</td>\n",
       "      <td id=\"T_236ab_row13_col7\" class=\"data row13 col7\" >0.4009</td>\n",
       "      <td id=\"T_236ab_row13_col8\" class=\"data row13 col8\" >0.3800</td>\n",
       "    </tr>\n",
       "  </tbody>\n",
       "</table>\n"
      ],
      "text/plain": [
       "<pandas.io.formats.style.Styler at 0x29f8faea010>"
      ]
     },
     "metadata": {},
     "output_type": "display_data"
    },
    {
     "data": {
      "text/html": [],
      "text/plain": [
       "<IPython.core.display.HTML object>"
      ]
     },
     "metadata": {},
     "output_type": "display_data"
    }
   ],
   "source": [
    "# Teste para ver qual modelo iremos utilizar no trabalho\n",
    "train, test = train_test_split(dados, test_size = 0.33, random_state=42,stratify=y)\n",
    "classificador = setup(data=train, target='Revenue')\n",
    "models = compare_models(n_select = 8, sort='AUC')"
   ]
  },
  {
   "cell_type": "markdown",
   "id": "9af080dc",
   "metadata": {},
   "source": [
    "## Algoritmo 1: Naive Bayes"
   ]
  },
  {
   "cell_type": "code",
   "execution_count": 18,
   "id": "8fba29a9",
   "metadata": {},
   "outputs": [],
   "source": [
    "nb = ComplementNB()"
   ]
  },
  {
   "cell_type": "code",
   "execution_count": 19,
   "id": "e5c7938a",
   "metadata": {},
   "outputs": [],
   "source": [
    "nb.fit(treinamento_x, treinamento_y)\n",
    "\n",
    "predicted = cross_val_predict(nb, treinamento_x, treinamento_y, cv=10)\n",
    "expected = treinamento_y.values"
   ]
  },
  {
   "cell_type": "code",
   "execution_count": 20,
   "id": "a2a10b3b",
   "metadata": {},
   "outputs": [
    {
     "data": {
      "text/html": [
       "<style>#sk-container-id-1 {color: black;background-color: white;}#sk-container-id-1 pre{padding: 0;}#sk-container-id-1 div.sk-toggleable {background-color: white;}#sk-container-id-1 label.sk-toggleable__label {cursor: pointer;display: block;width: 100%;margin-bottom: 0;padding: 0.3em;box-sizing: border-box;text-align: center;}#sk-container-id-1 label.sk-toggleable__label-arrow:before {content: \"▸\";float: left;margin-right: 0.25em;color: #696969;}#sk-container-id-1 label.sk-toggleable__label-arrow:hover:before {color: black;}#sk-container-id-1 div.sk-estimator:hover label.sk-toggleable__label-arrow:before {color: black;}#sk-container-id-1 div.sk-toggleable__content {max-height: 0;max-width: 0;overflow: hidden;text-align: left;background-color: #f0f8ff;}#sk-container-id-1 div.sk-toggleable__content pre {margin: 0.2em;color: black;border-radius: 0.25em;background-color: #f0f8ff;}#sk-container-id-1 input.sk-toggleable__control:checked~div.sk-toggleable__content {max-height: 200px;max-width: 100%;overflow: auto;}#sk-container-id-1 input.sk-toggleable__control:checked~label.sk-toggleable__label-arrow:before {content: \"▾\";}#sk-container-id-1 div.sk-estimator input.sk-toggleable__control:checked~label.sk-toggleable__label {background-color: #d4ebff;}#sk-container-id-1 div.sk-label input.sk-toggleable__control:checked~label.sk-toggleable__label {background-color: #d4ebff;}#sk-container-id-1 input.sk-hidden--visually {border: 0;clip: rect(1px 1px 1px 1px);clip: rect(1px, 1px, 1px, 1px);height: 1px;margin: -1px;overflow: hidden;padding: 0;position: absolute;width: 1px;}#sk-container-id-1 div.sk-estimator {font-family: monospace;background-color: #f0f8ff;border: 1px dotted black;border-radius: 0.25em;box-sizing: border-box;margin-bottom: 0.5em;}#sk-container-id-1 div.sk-estimator:hover {background-color: #d4ebff;}#sk-container-id-1 div.sk-parallel-item::after {content: \"\";width: 100%;border-bottom: 1px solid gray;flex-grow: 1;}#sk-container-id-1 div.sk-label:hover label.sk-toggleable__label {background-color: #d4ebff;}#sk-container-id-1 div.sk-serial::before {content: \"\";position: absolute;border-left: 1px solid gray;box-sizing: border-box;top: 0;bottom: 0;left: 50%;z-index: 0;}#sk-container-id-1 div.sk-serial {display: flex;flex-direction: column;align-items: center;background-color: white;padding-right: 0.2em;padding-left: 0.2em;position: relative;}#sk-container-id-1 div.sk-item {position: relative;z-index: 1;}#sk-container-id-1 div.sk-parallel {display: flex;align-items: stretch;justify-content: center;background-color: white;position: relative;}#sk-container-id-1 div.sk-item::before, #sk-container-id-1 div.sk-parallel-item::before {content: \"\";position: absolute;border-left: 1px solid gray;box-sizing: border-box;top: 0;bottom: 0;left: 50%;z-index: -1;}#sk-container-id-1 div.sk-parallel-item {display: flex;flex-direction: column;z-index: 1;position: relative;background-color: white;}#sk-container-id-1 div.sk-parallel-item:first-child::after {align-self: flex-end;width: 50%;}#sk-container-id-1 div.sk-parallel-item:last-child::after {align-self: flex-start;width: 50%;}#sk-container-id-1 div.sk-parallel-item:only-child::after {width: 0;}#sk-container-id-1 div.sk-dashed-wrapped {border: 1px dashed gray;margin: 0 0.4em 0.5em 0.4em;box-sizing: border-box;padding-bottom: 0.4em;background-color: white;}#sk-container-id-1 div.sk-label label {font-family: monospace;font-weight: bold;display: inline-block;line-height: 1.2em;}#sk-container-id-1 div.sk-label-container {text-align: center;}#sk-container-id-1 div.sk-container {/* jupyter's `normalize.less` sets `[hidden] { display: none; }` but bootstrap.min.css set `[hidden] { display: none !important; }` so we also need the `!important` here to be able to override the default hidden behavior on the sphinx rendered scikit-learn.org. See: https://github.com/scikit-learn/scikit-learn/issues/21755 */display: inline-block !important;position: relative;}#sk-container-id-1 div.sk-text-repr-fallback {display: none;}</style><div id=\"sk-container-id-1\" class=\"sk-top-container\"><div class=\"sk-text-repr-fallback\"><pre>ComplementNB(alpha=1.0, class_prior=None, fit_prior=True, force_alpha=&#x27;warn&#x27;,\n",
       "             norm=False)</pre><b>In a Jupyter environment, please rerun this cell to show the HTML representation or trust the notebook. <br />On GitHub, the HTML representation is unable to render, please try loading this page with nbviewer.org.</b></div><div class=\"sk-container\" hidden><div class=\"sk-item\"><div class=\"sk-estimator sk-toggleable\"><input class=\"sk-toggleable__control sk-hidden--visually\" id=\"sk-estimator-id-1\" type=\"checkbox\" checked><label for=\"sk-estimator-id-1\" class=\"sk-toggleable__label sk-toggleable__label-arrow\">ComplementNB</label><div class=\"sk-toggleable__content\"><pre>ComplementNB(alpha=1.0, class_prior=None, fit_prior=True, force_alpha=&#x27;warn&#x27;,\n",
       "             norm=False)</pre></div></div></div></div></div>"
      ],
      "text/plain": [
       "ComplementNB(alpha=1.0, class_prior=None, fit_prior=True, force_alpha='warn',\n",
       "             norm=False)"
      ]
     },
     "execution_count": 20,
     "metadata": {},
     "output_type": "execute_result"
    }
   ],
   "source": [
    "naiveb = nb.fit(treinamento_x, treinamento_y)\n",
    "naiveb"
   ]
  },
  {
   "cell_type": "code",
   "execution_count": 21,
   "id": "2d0b7f3f",
   "metadata": {},
   "outputs": [
    {
     "name": "stdout",
     "output_type": "stream",
     "text": [
      "[0.59517975 0.57820119 0.58924389 0.57419039 0.58914061]\n",
      "[0.56006423 0.55305197 0.55718155 0.54639351 0.55712376]\n"
     ]
    }
   ],
   "source": [
    "metricas = ['precision_macro', 'recall_macro']\n",
    "scores = cross_validate(nb, treinamento_x, treinamento_y, scoring=metricas)\n",
    "sorted(scores.keys())\n",
    "print(scores['test_recall_macro'])\n",
    "print(scores['test_precision_macro'])"
   ]
  },
  {
   "cell_type": "code",
   "execution_count": 22,
   "id": "18a610c6",
   "metadata": {},
   "outputs": [
    {
     "name": "stdout",
     "output_type": "stream",
     "text": [
      "[[3096 1073]\n",
      " [ 433  330]]\n",
      "              precision    recall  f1-score   support\n",
      "\n",
      "           0       0.88      0.74      0.80      4169\n",
      "           1       0.24      0.43      0.30       763\n",
      "\n",
      "    accuracy                           0.69      4932\n",
      "   macro avg       0.56      0.59      0.55      4932\n",
      "weighted avg       0.78      0.69      0.73      4932\n",
      "\n",
      "0.694647201946472\n"
     ]
    }
   ],
   "source": [
    "predicted = nb.predict(validacao_x)\n",
    "expected = validacao_y.values\n",
    "\n",
    "print(confusion_matrix(expected, predicted))\n",
    "print(classification_report(expected, predicted))\n",
    "print(accuracy_score(expected, predicted))"
   ]
  },
  {
   "cell_type": "markdown",
   "id": "1dcadcfd",
   "metadata": {},
   "source": [
    "## Algoritmo 2: Gradient Boosting Classifier"
   ]
  },
  {
   "cell_type": "code",
   "execution_count": 23,
   "id": "6307d03f",
   "metadata": {},
   "outputs": [],
   "source": [
    "X_train, X_test, y_train, y_test = train_test_split(X, y, test_size = 0.30, random_state=12,stratify=y)"
   ]
  },
  {
   "cell_type": "code",
   "execution_count": 24,
   "id": "209b806d",
   "metadata": {},
   "outputs": [],
   "source": [
    "scaler = MinMaxScaler()\n",
    "X_train = scaler.fit_transform(X_train)\n",
    "X_test = scaler.transform(X_test)"
   ]
  },
  {
   "cell_type": "code",
   "execution_count": 25,
   "id": "7c918825",
   "metadata": {},
   "outputs": [
    {
     "name": "stdout",
     "output_type": "stream",
     "text": [
      "Learning rate:  0.05\n",
      "Accuracy score (training): 0.845\n",
      "Accuracy score (validation): 0.845\n",
      "Learning rate:  0.075\n",
      "Accuracy score (training): 0.845\n",
      "Accuracy score (validation): 0.845\n",
      "Learning rate:  0.1\n",
      "Accuracy score (training): 0.845\n",
      "Accuracy score (validation): 0.845\n",
      "Learning rate:  0.25\n",
      "Accuracy score (training): 0.846\n",
      "Accuracy score (validation): 0.846\n",
      "Learning rate:  0.5\n",
      "Accuracy score (training): 0.848\n",
      "Accuracy score (validation): 0.843\n",
      "Learning rate:  0.75\n",
      "Accuracy score (training): 0.850\n",
      "Accuracy score (validation): 0.844\n",
      "Learning rate:  1\n",
      "Accuracy score (training): 0.851\n",
      "Accuracy score (validation): 0.842\n"
     ]
    }
   ],
   "source": [
    "lr_list = [0.05, 0.075, 0.1, 0.25, 0.5, 0.75, 1]\n",
    "for learning_rate in lr_list:\n",
    "    gb_clf = GradientBoostingClassifier(n_estimators=20, learning_rate=learning_rate, max_features=2, max_depth=2, random_state=0)\n",
    "    gb_clf.fit(X_train, y_train)\n",
    "\n",
    "    print(\"Learning rate: \", learning_rate)\n",
    "    print(\"Accuracy score (training): {0:.3f}\".format(gb_clf.score(X_train, y_train)))\n",
    "    print(\"Accuracy score (validation): {0:.3f}\".format(gb_clf.score(X_test, y_test)))"
   ]
  },
  {
   "cell_type": "code",
   "execution_count": 26,
   "id": "81afc7df",
   "metadata": {},
   "outputs": [],
   "source": [
    "gb_clf2 = GradientBoostingClassifier(n_estimators=20, learning_rate=0.5, max_features=2, max_depth=2, random_state=0)\n",
    "gb_clf2.fit(X_train, y_train)\n",
    "predictions = gb_clf2.predict(X_test)"
   ]
  },
  {
   "cell_type": "code",
   "execution_count": 27,
   "id": "f4c3be8d",
   "metadata": {},
   "outputs": [
    {
     "data": {
      "text/html": [
       "<style>#sk-container-id-2 {color: black;background-color: white;}#sk-container-id-2 pre{padding: 0;}#sk-container-id-2 div.sk-toggleable {background-color: white;}#sk-container-id-2 label.sk-toggleable__label {cursor: pointer;display: block;width: 100%;margin-bottom: 0;padding: 0.3em;box-sizing: border-box;text-align: center;}#sk-container-id-2 label.sk-toggleable__label-arrow:before {content: \"▸\";float: left;margin-right: 0.25em;color: #696969;}#sk-container-id-2 label.sk-toggleable__label-arrow:hover:before {color: black;}#sk-container-id-2 div.sk-estimator:hover label.sk-toggleable__label-arrow:before {color: black;}#sk-container-id-2 div.sk-toggleable__content {max-height: 0;max-width: 0;overflow: hidden;text-align: left;background-color: #f0f8ff;}#sk-container-id-2 div.sk-toggleable__content pre {margin: 0.2em;color: black;border-radius: 0.25em;background-color: #f0f8ff;}#sk-container-id-2 input.sk-toggleable__control:checked~div.sk-toggleable__content {max-height: 200px;max-width: 100%;overflow: auto;}#sk-container-id-2 input.sk-toggleable__control:checked~label.sk-toggleable__label-arrow:before {content: \"▾\";}#sk-container-id-2 div.sk-estimator input.sk-toggleable__control:checked~label.sk-toggleable__label {background-color: #d4ebff;}#sk-container-id-2 div.sk-label input.sk-toggleable__control:checked~label.sk-toggleable__label {background-color: #d4ebff;}#sk-container-id-2 input.sk-hidden--visually {border: 0;clip: rect(1px 1px 1px 1px);clip: rect(1px, 1px, 1px, 1px);height: 1px;margin: -1px;overflow: hidden;padding: 0;position: absolute;width: 1px;}#sk-container-id-2 div.sk-estimator {font-family: monospace;background-color: #f0f8ff;border: 1px dotted black;border-radius: 0.25em;box-sizing: border-box;margin-bottom: 0.5em;}#sk-container-id-2 div.sk-estimator:hover {background-color: #d4ebff;}#sk-container-id-2 div.sk-parallel-item::after {content: \"\";width: 100%;border-bottom: 1px solid gray;flex-grow: 1;}#sk-container-id-2 div.sk-label:hover label.sk-toggleable__label {background-color: #d4ebff;}#sk-container-id-2 div.sk-serial::before {content: \"\";position: absolute;border-left: 1px solid gray;box-sizing: border-box;top: 0;bottom: 0;left: 50%;z-index: 0;}#sk-container-id-2 div.sk-serial {display: flex;flex-direction: column;align-items: center;background-color: white;padding-right: 0.2em;padding-left: 0.2em;position: relative;}#sk-container-id-2 div.sk-item {position: relative;z-index: 1;}#sk-container-id-2 div.sk-parallel {display: flex;align-items: stretch;justify-content: center;background-color: white;position: relative;}#sk-container-id-2 div.sk-item::before, #sk-container-id-2 div.sk-parallel-item::before {content: \"\";position: absolute;border-left: 1px solid gray;box-sizing: border-box;top: 0;bottom: 0;left: 50%;z-index: -1;}#sk-container-id-2 div.sk-parallel-item {display: flex;flex-direction: column;z-index: 1;position: relative;background-color: white;}#sk-container-id-2 div.sk-parallel-item:first-child::after {align-self: flex-end;width: 50%;}#sk-container-id-2 div.sk-parallel-item:last-child::after {align-self: flex-start;width: 50%;}#sk-container-id-2 div.sk-parallel-item:only-child::after {width: 0;}#sk-container-id-2 div.sk-dashed-wrapped {border: 1px dashed gray;margin: 0 0.4em 0.5em 0.4em;box-sizing: border-box;padding-bottom: 0.4em;background-color: white;}#sk-container-id-2 div.sk-label label {font-family: monospace;font-weight: bold;display: inline-block;line-height: 1.2em;}#sk-container-id-2 div.sk-label-container {text-align: center;}#sk-container-id-2 div.sk-container {/* jupyter's `normalize.less` sets `[hidden] { display: none; }` but bootstrap.min.css set `[hidden] { display: none !important; }` so we also need the `!important` here to be able to override the default hidden behavior on the sphinx rendered scikit-learn.org. See: https://github.com/scikit-learn/scikit-learn/issues/21755 */display: inline-block !important;position: relative;}#sk-container-id-2 div.sk-text-repr-fallback {display: none;}</style><div id=\"sk-container-id-2\" class=\"sk-top-container\"><div class=\"sk-text-repr-fallback\"><pre>GradientBoostingClassifier(ccp_alpha=0.0, criterion=&#x27;friedman_mse&#x27;, init=None,\n",
       "                           learning_rate=0.5, loss=&#x27;log_loss&#x27;, max_depth=2,\n",
       "                           max_features=2, max_leaf_nodes=None,\n",
       "                           min_impurity_decrease=0.0, min_samples_leaf=1,\n",
       "                           min_samples_split=2, min_weight_fraction_leaf=0.0,\n",
       "                           n_estimators=20, n_iter_no_change=None,\n",
       "                           random_state=0, subsample=1.0, tol=0.0001,\n",
       "                           validation_fraction=0.1, verbose=0,\n",
       "                           warm_start=False)</pre><b>In a Jupyter environment, please rerun this cell to show the HTML representation or trust the notebook. <br />On GitHub, the HTML representation is unable to render, please try loading this page with nbviewer.org.</b></div><div class=\"sk-container\" hidden><div class=\"sk-item\"><div class=\"sk-estimator sk-toggleable\"><input class=\"sk-toggleable__control sk-hidden--visually\" id=\"sk-estimator-id-2\" type=\"checkbox\" checked><label for=\"sk-estimator-id-2\" class=\"sk-toggleable__label sk-toggleable__label-arrow\">GradientBoostingClassifier</label><div class=\"sk-toggleable__content\"><pre>GradientBoostingClassifier(ccp_alpha=0.0, criterion=&#x27;friedman_mse&#x27;, init=None,\n",
       "                           learning_rate=0.5, loss=&#x27;log_loss&#x27;, max_depth=2,\n",
       "                           max_features=2, max_leaf_nodes=None,\n",
       "                           min_impurity_decrease=0.0, min_samples_leaf=1,\n",
       "                           min_samples_split=2, min_weight_fraction_leaf=0.0,\n",
       "                           n_estimators=20, n_iter_no_change=None,\n",
       "                           random_state=0, subsample=1.0, tol=0.0001,\n",
       "                           validation_fraction=0.1, verbose=0,\n",
       "                           warm_start=False)</pre></div></div></div></div></div>"
      ],
      "text/plain": [
       "GradientBoostingClassifier(ccp_alpha=0.0, criterion='friedman_mse', init=None,\n",
       "                           learning_rate=0.5, loss='log_loss', max_depth=2,\n",
       "                           max_features=2, max_leaf_nodes=None,\n",
       "                           min_impurity_decrease=0.0, min_samples_leaf=1,\n",
       "                           min_samples_split=2, min_weight_fraction_leaf=0.0,\n",
       "                           n_estimators=20, n_iter_no_change=None,\n",
       "                           random_state=0, subsample=1.0, tol=0.0001,\n",
       "                           validation_fraction=0.1, verbose=0,\n",
       "                           warm_start=False)"
      ]
     },
     "execution_count": 27,
     "metadata": {},
     "output_type": "execute_result"
    }
   ],
   "source": [
    "gradient = gb_clf2.fit(X_train, y_train)\n",
    "gradient"
   ]
  },
  {
   "cell_type": "code",
   "execution_count": 28,
   "id": "f983a7b0",
   "metadata": {},
   "outputs": [
    {
     "name": "stdout",
     "output_type": "stream",
     "text": [
      "[[3090   37]\n",
      " [ 543   29]]\n",
      "              precision    recall  f1-score   support\n",
      "\n",
      "           0       0.85      0.99      0.91      3127\n",
      "           1       0.44      0.05      0.09       572\n",
      "\n",
      "    accuracy                           0.84      3699\n",
      "   macro avg       0.64      0.52      0.50      3699\n",
      "weighted avg       0.79      0.84      0.79      3699\n",
      "\n",
      "0.8432008650986753\n"
     ]
    }
   ],
   "source": [
    "print(confusion_matrix(y_test, predictions))\n",
    "print(classification_report(y_test, predictions))\n",
    "print(accuracy_score(y_test, predictions))"
   ]
  },
  {
   "cell_type": "markdown",
   "id": "3de2f175",
   "metadata": {},
   "source": [
    "## Algoritmo 3: Logistic Regression"
   ]
  },
  {
   "cell_type": "code",
   "execution_count": 29,
   "id": "878abb51",
   "metadata": {},
   "outputs": [],
   "source": [
    "clf = LogisticRegression()"
   ]
  },
  {
   "cell_type": "code",
   "execution_count": 30,
   "id": "bcbef8a0",
   "metadata": {},
   "outputs": [
    {
     "data": {
      "text/html": [
       "<style>#sk-container-id-3 {color: black;background-color: white;}#sk-container-id-3 pre{padding: 0;}#sk-container-id-3 div.sk-toggleable {background-color: white;}#sk-container-id-3 label.sk-toggleable__label {cursor: pointer;display: block;width: 100%;margin-bottom: 0;padding: 0.3em;box-sizing: border-box;text-align: center;}#sk-container-id-3 label.sk-toggleable__label-arrow:before {content: \"▸\";float: left;margin-right: 0.25em;color: #696969;}#sk-container-id-3 label.sk-toggleable__label-arrow:hover:before {color: black;}#sk-container-id-3 div.sk-estimator:hover label.sk-toggleable__label-arrow:before {color: black;}#sk-container-id-3 div.sk-toggleable__content {max-height: 0;max-width: 0;overflow: hidden;text-align: left;background-color: #f0f8ff;}#sk-container-id-3 div.sk-toggleable__content pre {margin: 0.2em;color: black;border-radius: 0.25em;background-color: #f0f8ff;}#sk-container-id-3 input.sk-toggleable__control:checked~div.sk-toggleable__content {max-height: 200px;max-width: 100%;overflow: auto;}#sk-container-id-3 input.sk-toggleable__control:checked~label.sk-toggleable__label-arrow:before {content: \"▾\";}#sk-container-id-3 div.sk-estimator input.sk-toggleable__control:checked~label.sk-toggleable__label {background-color: #d4ebff;}#sk-container-id-3 div.sk-label input.sk-toggleable__control:checked~label.sk-toggleable__label {background-color: #d4ebff;}#sk-container-id-3 input.sk-hidden--visually {border: 0;clip: rect(1px 1px 1px 1px);clip: rect(1px, 1px, 1px, 1px);height: 1px;margin: -1px;overflow: hidden;padding: 0;position: absolute;width: 1px;}#sk-container-id-3 div.sk-estimator {font-family: monospace;background-color: #f0f8ff;border: 1px dotted black;border-radius: 0.25em;box-sizing: border-box;margin-bottom: 0.5em;}#sk-container-id-3 div.sk-estimator:hover {background-color: #d4ebff;}#sk-container-id-3 div.sk-parallel-item::after {content: \"\";width: 100%;border-bottom: 1px solid gray;flex-grow: 1;}#sk-container-id-3 div.sk-label:hover label.sk-toggleable__label {background-color: #d4ebff;}#sk-container-id-3 div.sk-serial::before {content: \"\";position: absolute;border-left: 1px solid gray;box-sizing: border-box;top: 0;bottom: 0;left: 50%;z-index: 0;}#sk-container-id-3 div.sk-serial {display: flex;flex-direction: column;align-items: center;background-color: white;padding-right: 0.2em;padding-left: 0.2em;position: relative;}#sk-container-id-3 div.sk-item {position: relative;z-index: 1;}#sk-container-id-3 div.sk-parallel {display: flex;align-items: stretch;justify-content: center;background-color: white;position: relative;}#sk-container-id-3 div.sk-item::before, #sk-container-id-3 div.sk-parallel-item::before {content: \"\";position: absolute;border-left: 1px solid gray;box-sizing: border-box;top: 0;bottom: 0;left: 50%;z-index: -1;}#sk-container-id-3 div.sk-parallel-item {display: flex;flex-direction: column;z-index: 1;position: relative;background-color: white;}#sk-container-id-3 div.sk-parallel-item:first-child::after {align-self: flex-end;width: 50%;}#sk-container-id-3 div.sk-parallel-item:last-child::after {align-self: flex-start;width: 50%;}#sk-container-id-3 div.sk-parallel-item:only-child::after {width: 0;}#sk-container-id-3 div.sk-dashed-wrapped {border: 1px dashed gray;margin: 0 0.4em 0.5em 0.4em;box-sizing: border-box;padding-bottom: 0.4em;background-color: white;}#sk-container-id-3 div.sk-label label {font-family: monospace;font-weight: bold;display: inline-block;line-height: 1.2em;}#sk-container-id-3 div.sk-label-container {text-align: center;}#sk-container-id-3 div.sk-container {/* jupyter's `normalize.less` sets `[hidden] { display: none; }` but bootstrap.min.css set `[hidden] { display: none !important; }` so we also need the `!important` here to be able to override the default hidden behavior on the sphinx rendered scikit-learn.org. See: https://github.com/scikit-learn/scikit-learn/issues/21755 */display: inline-block !important;position: relative;}#sk-container-id-3 div.sk-text-repr-fallback {display: none;}</style><div id=\"sk-container-id-3\" class=\"sk-top-container\"><div class=\"sk-text-repr-fallback\"><pre>LogisticRegression(C=1.0, class_weight=None, dual=False, fit_intercept=True,\n",
       "                   intercept_scaling=1, l1_ratio=None, max_iter=100,\n",
       "                   multi_class=&#x27;auto&#x27;, n_jobs=None, penalty=&#x27;l2&#x27;,\n",
       "                   random_state=None, solver=&#x27;lbfgs&#x27;, tol=0.0001, verbose=0,\n",
       "                   warm_start=False)</pre><b>In a Jupyter environment, please rerun this cell to show the HTML representation or trust the notebook. <br />On GitHub, the HTML representation is unable to render, please try loading this page with nbviewer.org.</b></div><div class=\"sk-container\" hidden><div class=\"sk-item\"><div class=\"sk-estimator sk-toggleable\"><input class=\"sk-toggleable__control sk-hidden--visually\" id=\"sk-estimator-id-3\" type=\"checkbox\" checked><label for=\"sk-estimator-id-3\" class=\"sk-toggleable__label sk-toggleable__label-arrow\">LogisticRegression</label><div class=\"sk-toggleable__content\"><pre>LogisticRegression(C=1.0, class_weight=None, dual=False, fit_intercept=True,\n",
       "                   intercept_scaling=1, l1_ratio=None, max_iter=100,\n",
       "                   multi_class=&#x27;auto&#x27;, n_jobs=None, penalty=&#x27;l2&#x27;,\n",
       "                   random_state=None, solver=&#x27;lbfgs&#x27;, tol=0.0001, verbose=0,\n",
       "                   warm_start=False)</pre></div></div></div></div></div>"
      ],
      "text/plain": [
       "LogisticRegression(C=1.0, class_weight=None, dual=False, fit_intercept=True,\n",
       "                   intercept_scaling=1, l1_ratio=None, max_iter=100,\n",
       "                   multi_class='auto', n_jobs=None, penalty='l2',\n",
       "                   random_state=None, solver='lbfgs', tol=0.0001, verbose=0,\n",
       "                   warm_start=False)"
      ]
     },
     "execution_count": 30,
     "metadata": {},
     "output_type": "execute_result"
    }
   ],
   "source": [
    "lr = clf.fit(X_train, y_train)\n",
    "lr"
   ]
  },
  {
   "cell_type": "code",
   "execution_count": 31,
   "id": "c992cd53",
   "metadata": {},
   "outputs": [
    {
     "data": {
      "text/plain": [
       "0.8440118951067856"
      ]
     },
     "execution_count": 31,
     "metadata": {},
     "output_type": "execute_result"
    }
   ],
   "source": [
    "clf.score(X_test, y_test)"
   ]
  },
  {
   "cell_type": "code",
   "execution_count": 32,
   "id": "c9685b0b",
   "metadata": {},
   "outputs": [],
   "source": [
    "y_pred = clf.predict(X_test)"
   ]
  },
  {
   "cell_type": "code",
   "execution_count": 33,
   "id": "e2018704",
   "metadata": {},
   "outputs": [
    {
     "data": {
      "text/plain": [
       "array([[3115,   12],\n",
       "       [ 565,    7]], dtype=int64)"
      ]
     },
     "execution_count": 33,
     "metadata": {},
     "output_type": "execute_result"
    }
   ],
   "source": [
    "confusion_matrix(y_test, y_pred)"
   ]
  },
  {
   "cell_type": "code",
   "execution_count": 34,
   "id": "4bd509d8",
   "metadata": {},
   "outputs": [
    {
     "name": "stdout",
     "output_type": "stream",
     "text": [
      "              precision    recall  f1-score   support\n",
      "\n",
      "           0       0.85      1.00      0.92      3127\n",
      "           1       0.37      0.01      0.02       572\n",
      "\n",
      "    accuracy                           0.84      3699\n",
      "   macro avg       0.61      0.50      0.47      3699\n",
      "weighted avg       0.77      0.84      0.78      3699\n",
      "\n",
      "0.8440118951067856\n"
     ]
    }
   ],
   "source": [
    "print(classification_report(y_test, y_pred))\n",
    "print(accuracy_score(y_test, y_pred))"
   ]
  },
  {
   "cell_type": "markdown",
   "id": "bd650a4f",
   "metadata": {},
   "source": [
    "# Análise dos resultados"
   ]
  },
  {
   "cell_type": "code",
   "execution_count": 35,
   "id": "e24dc450",
   "metadata": {},
   "outputs": [
    {
     "data": {
      "text/html": [],
      "text/plain": [
       "<IPython.core.display.HTML object>"
      ]
     },
     "metadata": {},
     "output_type": "display_data"
    },
    {
     "data": {
      "text/html": [
       "<style type=\"text/css\">\n",
       "#T_0f6b8_row10_col0, #T_0f6b8_row10_col1, #T_0f6b8_row10_col2, #T_0f6b8_row10_col3, #T_0f6b8_row10_col4, #T_0f6b8_row10_col5, #T_0f6b8_row10_col6 {\n",
       "  background: yellow;\n",
       "}\n",
       "</style>\n",
       "<table id=\"T_0f6b8\">\n",
       "  <thead>\n",
       "    <tr>\n",
       "      <th class=\"blank level0\" >&nbsp;</th>\n",
       "      <th id=\"T_0f6b8_level0_col0\" class=\"col_heading level0 col0\" >Accuracy</th>\n",
       "      <th id=\"T_0f6b8_level0_col1\" class=\"col_heading level0 col1\" >AUC</th>\n",
       "      <th id=\"T_0f6b8_level0_col2\" class=\"col_heading level0 col2\" >Recall</th>\n",
       "      <th id=\"T_0f6b8_level0_col3\" class=\"col_heading level0 col3\" >Prec.</th>\n",
       "      <th id=\"T_0f6b8_level0_col4\" class=\"col_heading level0 col4\" >F1</th>\n",
       "      <th id=\"T_0f6b8_level0_col5\" class=\"col_heading level0 col5\" >Kappa</th>\n",
       "      <th id=\"T_0f6b8_level0_col6\" class=\"col_heading level0 col6\" >MCC</th>\n",
       "    </tr>\n",
       "    <tr>\n",
       "      <th class=\"index_name level0\" >Fold</th>\n",
       "      <th class=\"blank col0\" >&nbsp;</th>\n",
       "      <th class=\"blank col1\" >&nbsp;</th>\n",
       "      <th class=\"blank col2\" >&nbsp;</th>\n",
       "      <th class=\"blank col3\" >&nbsp;</th>\n",
       "      <th class=\"blank col4\" >&nbsp;</th>\n",
       "      <th class=\"blank col5\" >&nbsp;</th>\n",
       "      <th class=\"blank col6\" >&nbsp;</th>\n",
       "    </tr>\n",
       "  </thead>\n",
       "  <tbody>\n",
       "    <tr>\n",
       "      <th id=\"T_0f6b8_level0_row0\" class=\"row_heading level0 row0\" >0</th>\n",
       "      <td id=\"T_0f6b8_row0_col0\" class=\"data row0 col0\" >0.8946</td>\n",
       "      <td id=\"T_0f6b8_row0_col1\" class=\"data row0 col1\" >0.9274</td>\n",
       "      <td id=\"T_0f6b8_row0_col2\" class=\"data row0 col2\" >0.5556</td>\n",
       "      <td id=\"T_0f6b8_row0_col3\" class=\"data row0 col3\" >0.7042</td>\n",
       "      <td id=\"T_0f6b8_row0_col4\" class=\"data row0 col4\" >0.6211</td>\n",
       "      <td id=\"T_0f6b8_row0_col5\" class=\"data row0 col5\" >0.5609</td>\n",
       "      <td id=\"T_0f6b8_row0_col6\" class=\"data row0 col6\" >0.5662</td>\n",
       "    </tr>\n",
       "    <tr>\n",
       "      <th id=\"T_0f6b8_level0_row1\" class=\"row_heading level0 row1\" >1</th>\n",
       "      <td id=\"T_0f6b8_row1_col0\" class=\"data row1 col0\" >0.9033</td>\n",
       "      <td id=\"T_0f6b8_row1_col1\" class=\"data row1 col1\" >0.9377</td>\n",
       "      <td id=\"T_0f6b8_row1_col2\" class=\"data row1 col2\" >0.6111</td>\n",
       "      <td id=\"T_0f6b8_row1_col3\" class=\"data row1 col3\" >0.7237</td>\n",
       "      <td id=\"T_0f6b8_row1_col4\" class=\"data row1 col4\" >0.6627</td>\n",
       "      <td id=\"T_0f6b8_row1_col5\" class=\"data row1 col5\" >0.6067</td>\n",
       "      <td id=\"T_0f6b8_row1_col6\" class=\"data row1 col6\" >0.6096</td>\n",
       "    </tr>\n",
       "    <tr>\n",
       "      <th id=\"T_0f6b8_level0_row2\" class=\"row_heading level0 row2\" >2</th>\n",
       "      <td id=\"T_0f6b8_row2_col0\" class=\"data row2 col0\" >0.8910</td>\n",
       "      <td id=\"T_0f6b8_row2_col1\" class=\"data row2 col1\" >0.9131</td>\n",
       "      <td id=\"T_0f6b8_row2_col2\" class=\"data row2 col2\" >0.5730</td>\n",
       "      <td id=\"T_0f6b8_row2_col3\" class=\"data row2 col3\" >0.6711</td>\n",
       "      <td id=\"T_0f6b8_row2_col4\" class=\"data row2 col4\" >0.6182</td>\n",
       "      <td id=\"T_0f6b8_row2_col5\" class=\"data row2 col5\" >0.5551</td>\n",
       "      <td id=\"T_0f6b8_row2_col6\" class=\"data row2 col6\" >0.5574</td>\n",
       "    </tr>\n",
       "    <tr>\n",
       "      <th id=\"T_0f6b8_level0_row3\" class=\"row_heading level0 row3\" >3</th>\n",
       "      <td id=\"T_0f6b8_row3_col0\" class=\"data row3 col0\" >0.9135</td>\n",
       "      <td id=\"T_0f6b8_row3_col1\" class=\"data row3 col1\" >0.9449</td>\n",
       "      <td id=\"T_0f6b8_row3_col2\" class=\"data row3 col2\" >0.6742</td>\n",
       "      <td id=\"T_0f6b8_row3_col3\" class=\"data row3 col3\" >0.7407</td>\n",
       "      <td id=\"T_0f6b8_row3_col4\" class=\"data row3 col4\" >0.7059</td>\n",
       "      <td id=\"T_0f6b8_row3_col5\" class=\"data row3 col5\" >0.6553</td>\n",
       "      <td id=\"T_0f6b8_row3_col6\" class=\"data row3 col6\" >0.6563</td>\n",
       "    </tr>\n",
       "    <tr>\n",
       "      <th id=\"T_0f6b8_level0_row4\" class=\"row_heading level0 row4\" >4</th>\n",
       "      <td id=\"T_0f6b8_row4_col0\" class=\"data row4 col0\" >0.8858</td>\n",
       "      <td id=\"T_0f6b8_row4_col1\" class=\"data row4 col1\" >0.9129</td>\n",
       "      <td id=\"T_0f6b8_row4_col2\" class=\"data row4 col2\" >0.5281</td>\n",
       "      <td id=\"T_0f6b8_row4_col3\" class=\"data row4 col3\" >0.6620</td>\n",
       "      <td id=\"T_0f6b8_row4_col4\" class=\"data row4 col4\" >0.5875</td>\n",
       "      <td id=\"T_0f6b8_row4_col5\" class=\"data row4 col5\" >0.5222</td>\n",
       "      <td id=\"T_0f6b8_row4_col6\" class=\"data row4 col6\" >0.5267</td>\n",
       "    </tr>\n",
       "    <tr>\n",
       "      <th id=\"T_0f6b8_level0_row5\" class=\"row_heading level0 row5\" >5</th>\n",
       "      <td id=\"T_0f6b8_row5_col0\" class=\"data row5 col0\" >0.8997</td>\n",
       "      <td id=\"T_0f6b8_row5_col1\" class=\"data row5 col1\" >0.9225</td>\n",
       "      <td id=\"T_0f6b8_row5_col2\" class=\"data row5 col2\" >0.5843</td>\n",
       "      <td id=\"T_0f6b8_row5_col3\" class=\"data row5 col3\" >0.7123</td>\n",
       "      <td id=\"T_0f6b8_row5_col4\" class=\"data row5 col4\" >0.6420</td>\n",
       "      <td id=\"T_0f6b8_row5_col5\" class=\"data row5 col5\" >0.5843</td>\n",
       "      <td id=\"T_0f6b8_row5_col6\" class=\"data row5 col6\" >0.5882</td>\n",
       "    </tr>\n",
       "    <tr>\n",
       "      <th id=\"T_0f6b8_level0_row6\" class=\"row_heading level0 row6\" >6</th>\n",
       "      <td id=\"T_0f6b8_row6_col0\" class=\"data row6 col0\" >0.9048</td>\n",
       "      <td id=\"T_0f6b8_row6_col1\" class=\"data row6 col1\" >0.9259</td>\n",
       "      <td id=\"T_0f6b8_row6_col2\" class=\"data row6 col2\" >0.5730</td>\n",
       "      <td id=\"T_0f6b8_row6_col3\" class=\"data row6 col3\" >0.7500</td>\n",
       "      <td id=\"T_0f6b8_row6_col4\" class=\"data row6 col4\" >0.6497</td>\n",
       "      <td id=\"T_0f6b8_row6_col5\" class=\"data row6 col5\" >0.5958</td>\n",
       "      <td id=\"T_0f6b8_row6_col6\" class=\"data row6 col6\" >0.6030</td>\n",
       "    </tr>\n",
       "    <tr>\n",
       "      <th id=\"T_0f6b8_level0_row7\" class=\"row_heading level0 row7\" >7</th>\n",
       "      <td id=\"T_0f6b8_row7_col0\" class=\"data row7 col0\" >0.8927</td>\n",
       "      <td id=\"T_0f6b8_row7_col1\" class=\"data row7 col1\" >0.9366</td>\n",
       "      <td id=\"T_0f6b8_row7_col2\" class=\"data row7 col2\" >0.5955</td>\n",
       "      <td id=\"T_0f6b8_row7_col3\" class=\"data row7 col3\" >0.6709</td>\n",
       "      <td id=\"T_0f6b8_row7_col4\" class=\"data row7 col4\" >0.6310</td>\n",
       "      <td id=\"T_0f6b8_row7_col5\" class=\"data row7 col5\" >0.5685</td>\n",
       "      <td id=\"T_0f6b8_row7_col6\" class=\"data row7 col6\" >0.5698</td>\n",
       "    </tr>\n",
       "    <tr>\n",
       "      <th id=\"T_0f6b8_level0_row8\" class=\"row_heading level0 row8\" >8</th>\n",
       "      <td id=\"T_0f6b8_row8_col0\" class=\"data row8 col0\" >0.9100</td>\n",
       "      <td id=\"T_0f6b8_row8_col1\" class=\"data row8 col1\" >0.9451</td>\n",
       "      <td id=\"T_0f6b8_row8_col2\" class=\"data row8 col2\" >0.7000</td>\n",
       "      <td id=\"T_0f6b8_row8_col3\" class=\"data row8 col3\" >0.7159</td>\n",
       "      <td id=\"T_0f6b8_row8_col4\" class=\"data row8 col4\" >0.7079</td>\n",
       "      <td id=\"T_0f6b8_row8_col5\" class=\"data row8 col5\" >0.6547</td>\n",
       "      <td id=\"T_0f6b8_row8_col6\" class=\"data row8 col6\" >0.6548</td>\n",
       "    </tr>\n",
       "    <tr>\n",
       "      <th id=\"T_0f6b8_level0_row9\" class=\"row_heading level0 row9\" >9</th>\n",
       "      <td id=\"T_0f6b8_row9_col0\" class=\"data row9 col0\" >0.9031</td>\n",
       "      <td id=\"T_0f6b8_row9_col1\" class=\"data row9 col1\" >0.9231</td>\n",
       "      <td id=\"T_0f6b8_row9_col2\" class=\"data row9 col2\" >0.6222</td>\n",
       "      <td id=\"T_0f6b8_row9_col3\" class=\"data row9 col3\" >0.7179</td>\n",
       "      <td id=\"T_0f6b8_row9_col4\" class=\"data row9 col4\" >0.6667</td>\n",
       "      <td id=\"T_0f6b8_row9_col5\" class=\"data row9 col5\" >0.6103</td>\n",
       "      <td id=\"T_0f6b8_row9_col6\" class=\"data row9 col6\" >0.6125</td>\n",
       "    </tr>\n",
       "    <tr>\n",
       "      <th id=\"T_0f6b8_level0_row10\" class=\"row_heading level0 row10\" >Mean</th>\n",
       "      <td id=\"T_0f6b8_row10_col0\" class=\"data row10 col0\" >0.8999</td>\n",
       "      <td id=\"T_0f6b8_row10_col1\" class=\"data row10 col1\" >0.9289</td>\n",
       "      <td id=\"T_0f6b8_row10_col2\" class=\"data row10 col2\" >0.6017</td>\n",
       "      <td id=\"T_0f6b8_row10_col3\" class=\"data row10 col3\" >0.7069</td>\n",
       "      <td id=\"T_0f6b8_row10_col4\" class=\"data row10 col4\" >0.6492</td>\n",
       "      <td id=\"T_0f6b8_row10_col5\" class=\"data row10 col5\" >0.5914</td>\n",
       "      <td id=\"T_0f6b8_row10_col6\" class=\"data row10 col6\" >0.5945</td>\n",
       "    </tr>\n",
       "    <tr>\n",
       "      <th id=\"T_0f6b8_level0_row11\" class=\"row_heading level0 row11\" >Std</th>\n",
       "      <td id=\"T_0f6b8_row11_col0\" class=\"data row11 col0\" >0.0083</td>\n",
       "      <td id=\"T_0f6b8_row11_col1\" class=\"data row11 col1\" >0.0112</td>\n",
       "      <td id=\"T_0f6b8_row11_col2\" class=\"data row11 col2\" >0.0500</td>\n",
       "      <td id=\"T_0f6b8_row11_col3\" class=\"data row11 col3\" >0.0285</td>\n",
       "      <td id=\"T_0f6b8_row11_col4\" class=\"data row11 col4\" >0.0362</td>\n",
       "      <td id=\"T_0f6b8_row11_col5\" class=\"data row11 col5\" >0.0404</td>\n",
       "      <td id=\"T_0f6b8_row11_col6\" class=\"data row11 col6\" >0.0394</td>\n",
       "    </tr>\n",
       "  </tbody>\n",
       "</table>\n"
      ],
      "text/plain": [
       "<pandas.io.formats.style.Styler at 0x29f8fae3d50>"
      ]
     },
     "metadata": {},
     "output_type": "display_data"
    },
    {
     "data": {
      "text/html": [],
      "text/plain": [
       "<IPython.core.display.HTML object>"
      ]
     },
     "metadata": {},
     "output_type": "display_data"
    }
   ],
   "source": [
    "gbc = create_model('gbc')"
   ]
  },
  {
   "cell_type": "code",
   "execution_count": 36,
   "id": "7b9a1e50",
   "metadata": {},
   "outputs": [
    {
     "data": {
      "text/html": [],
      "text/plain": [
       "<IPython.core.display.HTML object>"
      ]
     },
     "metadata": {},
     "output_type": "display_data"
    },
    {
     "data": {
      "text/html": [
       "<style type=\"text/css\">\n",
       "#T_06f79_row10_col0, #T_06f79_row10_col1, #T_06f79_row10_col2, #T_06f79_row10_col3, #T_06f79_row10_col4, #T_06f79_row10_col5, #T_06f79_row10_col6 {\n",
       "  background: yellow;\n",
       "}\n",
       "</style>\n",
       "<table id=\"T_06f79\">\n",
       "  <thead>\n",
       "    <tr>\n",
       "      <th class=\"blank level0\" >&nbsp;</th>\n",
       "      <th id=\"T_06f79_level0_col0\" class=\"col_heading level0 col0\" >Accuracy</th>\n",
       "      <th id=\"T_06f79_level0_col1\" class=\"col_heading level0 col1\" >AUC</th>\n",
       "      <th id=\"T_06f79_level0_col2\" class=\"col_heading level0 col2\" >Recall</th>\n",
       "      <th id=\"T_06f79_level0_col3\" class=\"col_heading level0 col3\" >Prec.</th>\n",
       "      <th id=\"T_06f79_level0_col4\" class=\"col_heading level0 col4\" >F1</th>\n",
       "      <th id=\"T_06f79_level0_col5\" class=\"col_heading level0 col5\" >Kappa</th>\n",
       "      <th id=\"T_06f79_level0_col6\" class=\"col_heading level0 col6\" >MCC</th>\n",
       "    </tr>\n",
       "    <tr>\n",
       "      <th class=\"index_name level0\" >Fold</th>\n",
       "      <th class=\"blank col0\" >&nbsp;</th>\n",
       "      <th class=\"blank col1\" >&nbsp;</th>\n",
       "      <th class=\"blank col2\" >&nbsp;</th>\n",
       "      <th class=\"blank col3\" >&nbsp;</th>\n",
       "      <th class=\"blank col4\" >&nbsp;</th>\n",
       "      <th class=\"blank col5\" >&nbsp;</th>\n",
       "      <th class=\"blank col6\" >&nbsp;</th>\n",
       "    </tr>\n",
       "  </thead>\n",
       "  <tbody>\n",
       "    <tr>\n",
       "      <th id=\"T_06f79_level0_row0\" class=\"row_heading level0 row0\" >0</th>\n",
       "      <td id=\"T_06f79_row0_col0\" class=\"data row0 col0\" >0.8964</td>\n",
       "      <td id=\"T_06f79_row0_col1\" class=\"data row0 col1\" >0.9135</td>\n",
       "      <td id=\"T_06f79_row0_col2\" class=\"data row0 col2\" >0.5889</td>\n",
       "      <td id=\"T_06f79_row0_col3\" class=\"data row0 col3\" >0.6974</td>\n",
       "      <td id=\"T_06f79_row0_col4\" class=\"data row0 col4\" >0.6386</td>\n",
       "      <td id=\"T_06f79_row0_col5\" class=\"data row0 col5\" >0.5786</td>\n",
       "      <td id=\"T_06f79_row0_col6\" class=\"data row0 col6\" >0.5814</td>\n",
       "    </tr>\n",
       "    <tr>\n",
       "      <th id=\"T_06f79_level0_row1\" class=\"row_heading level0 row1\" >1</th>\n",
       "      <td id=\"T_06f79_row1_col0\" class=\"data row1 col0\" >0.9050</td>\n",
       "      <td id=\"T_06f79_row1_col1\" class=\"data row1 col1\" >0.9299</td>\n",
       "      <td id=\"T_06f79_row1_col2\" class=\"data row1 col2\" >0.6333</td>\n",
       "      <td id=\"T_06f79_row1_col3\" class=\"data row1 col3\" >0.7215</td>\n",
       "      <td id=\"T_06f79_row1_col4\" class=\"data row1 col4\" >0.6746</td>\n",
       "      <td id=\"T_06f79_row1_col5\" class=\"data row1 col5\" >0.6192</td>\n",
       "      <td id=\"T_06f79_row1_col6\" class=\"data row1 col6\" >0.6210</td>\n",
       "    </tr>\n",
       "    <tr>\n",
       "      <th id=\"T_06f79_level0_row2\" class=\"row_heading level0 row2\" >2</th>\n",
       "      <td id=\"T_06f79_row2_col0\" class=\"data row2 col0\" >0.8979</td>\n",
       "      <td id=\"T_06f79_row2_col1\" class=\"data row2 col1\" >0.9025</td>\n",
       "      <td id=\"T_06f79_row2_col2\" class=\"data row2 col2\" >0.6067</td>\n",
       "      <td id=\"T_06f79_row2_col3\" class=\"data row2 col3\" >0.6923</td>\n",
       "      <td id=\"T_06f79_row2_col4\" class=\"data row2 col4\" >0.6467</td>\n",
       "      <td id=\"T_06f79_row2_col5\" class=\"data row2 col5\" >0.5874</td>\n",
       "      <td id=\"T_06f79_row2_col6\" class=\"data row2 col6\" >0.5891</td>\n",
       "    </tr>\n",
       "    <tr>\n",
       "      <th id=\"T_06f79_level0_row3\" class=\"row_heading level0 row3\" >3</th>\n",
       "      <td id=\"T_06f79_row3_col0\" class=\"data row3 col0\" >0.9066</td>\n",
       "      <td id=\"T_06f79_row3_col1\" class=\"data row3 col1\" >0.9331</td>\n",
       "      <td id=\"T_06f79_row3_col2\" class=\"data row3 col2\" >0.6404</td>\n",
       "      <td id=\"T_06f79_row3_col3\" class=\"data row3 col3\" >0.7215</td>\n",
       "      <td id=\"T_06f79_row3_col4\" class=\"data row3 col4\" >0.6786</td>\n",
       "      <td id=\"T_06f79_row3_col5\" class=\"data row3 col5\" >0.6241</td>\n",
       "      <td id=\"T_06f79_row3_col6\" class=\"data row3 col6\" >0.6257</td>\n",
       "    </tr>\n",
       "    <tr>\n",
       "      <th id=\"T_06f79_level0_row4\" class=\"row_heading level0 row4\" >4</th>\n",
       "      <td id=\"T_06f79_row4_col0\" class=\"data row4 col0\" >0.8910</td>\n",
       "      <td id=\"T_06f79_row4_col1\" class=\"data row4 col1\" >0.9047</td>\n",
       "      <td id=\"T_06f79_row4_col2\" class=\"data row4 col2\" >0.5506</td>\n",
       "      <td id=\"T_06f79_row4_col3\" class=\"data row4 col3\" >0.6806</td>\n",
       "      <td id=\"T_06f79_row4_col4\" class=\"data row4 col4\" >0.6087</td>\n",
       "      <td id=\"T_06f79_row4_col5\" class=\"data row4 col5\" >0.5462</td>\n",
       "      <td id=\"T_06f79_row4_col6\" class=\"data row4 col6\" >0.5503</td>\n",
       "    </tr>\n",
       "    <tr>\n",
       "      <th id=\"T_06f79_level0_row5\" class=\"row_heading level0 row5\" >5</th>\n",
       "      <td id=\"T_06f79_row5_col0\" class=\"data row5 col0\" >0.8927</td>\n",
       "      <td id=\"T_06f79_row5_col1\" class=\"data row5 col1\" >0.9080</td>\n",
       "      <td id=\"T_06f79_row5_col2\" class=\"data row5 col2\" >0.5730</td>\n",
       "      <td id=\"T_06f79_row5_col3\" class=\"data row5 col3\" >0.6800</td>\n",
       "      <td id=\"T_06f79_row5_col4\" class=\"data row5 col4\" >0.6220</td>\n",
       "      <td id=\"T_06f79_row5_col5\" class=\"data row5 col5\" >0.5600</td>\n",
       "      <td id=\"T_06f79_row5_col6\" class=\"data row5 col6\" >0.5628</td>\n",
       "    </tr>\n",
       "    <tr>\n",
       "      <th id=\"T_06f79_level0_row6\" class=\"row_heading level0 row6\" >6</th>\n",
       "      <td id=\"T_06f79_row6_col0\" class=\"data row6 col0\" >0.9118</td>\n",
       "      <td id=\"T_06f79_row6_col1\" class=\"data row6 col1\" >0.9177</td>\n",
       "      <td id=\"T_06f79_row6_col2\" class=\"data row6 col2\" >0.6292</td>\n",
       "      <td id=\"T_06f79_row6_col3\" class=\"data row6 col3\" >0.7568</td>\n",
       "      <td id=\"T_06f79_row6_col4\" class=\"data row6 col4\" >0.6871</td>\n",
       "      <td id=\"T_06f79_row6_col5\" class=\"data row6 col5\" >0.6363</td>\n",
       "      <td id=\"T_06f79_row6_col6\" class=\"data row6 col6\" >0.6399</td>\n",
       "    </tr>\n",
       "    <tr>\n",
       "      <th id=\"T_06f79_level0_row7\" class=\"row_heading level0 row7\" >7</th>\n",
       "      <td id=\"T_06f79_row7_col0\" class=\"data row7 col0\" >0.8945</td>\n",
       "      <td id=\"T_06f79_row7_col1\" class=\"data row7 col1\" >0.9287</td>\n",
       "      <td id=\"T_06f79_row7_col2\" class=\"data row7 col2\" >0.6292</td>\n",
       "      <td id=\"T_06f79_row7_col3\" class=\"data row7 col3\" >0.6667</td>\n",
       "      <td id=\"T_06f79_row7_col4\" class=\"data row7 col4\" >0.6474</td>\n",
       "      <td id=\"T_06f79_row7_col5\" class=\"data row7 col5\" >0.5854</td>\n",
       "      <td id=\"T_06f79_row7_col6\" class=\"data row7 col6\" >0.5857</td>\n",
       "    </tr>\n",
       "    <tr>\n",
       "      <th id=\"T_06f79_level0_row8\" class=\"row_heading level0 row8\" >8</th>\n",
       "      <td id=\"T_06f79_row8_col0\" class=\"data row8 col0\" >0.9152</td>\n",
       "      <td id=\"T_06f79_row8_col1\" class=\"data row8 col1\" >0.9495</td>\n",
       "      <td id=\"T_06f79_row8_col2\" class=\"data row8 col2\" >0.7111</td>\n",
       "      <td id=\"T_06f79_row8_col3\" class=\"data row8 col3\" >0.7356</td>\n",
       "      <td id=\"T_06f79_row8_col4\" class=\"data row8 col4\" >0.7232</td>\n",
       "      <td id=\"T_06f79_row8_col5\" class=\"data row8 col5\" >0.6731</td>\n",
       "      <td id=\"T_06f79_row8_col6\" class=\"data row8 col6\" >0.6733</td>\n",
       "    </tr>\n",
       "    <tr>\n",
       "      <th id=\"T_06f79_level0_row9\" class=\"row_heading level0 row9\" >9</th>\n",
       "      <td id=\"T_06f79_row9_col0\" class=\"data row9 col0\" >0.8910</td>\n",
       "      <td id=\"T_06f79_row9_col1\" class=\"data row9 col1\" >0.9190</td>\n",
       "      <td id=\"T_06f79_row9_col2\" class=\"data row9 col2\" >0.5667</td>\n",
       "      <td id=\"T_06f79_row9_col3\" class=\"data row9 col3\" >0.6800</td>\n",
       "      <td id=\"T_06f79_row9_col4\" class=\"data row9 col4\" >0.6182</td>\n",
       "      <td id=\"T_06f79_row9_col5\" class=\"data row9 col5\" >0.5552</td>\n",
       "      <td id=\"T_06f79_row9_col6\" class=\"data row9 col6\" >0.5584</td>\n",
       "    </tr>\n",
       "    <tr>\n",
       "      <th id=\"T_06f79_level0_row10\" class=\"row_heading level0 row10\" >Mean</th>\n",
       "      <td id=\"T_06f79_row10_col0\" class=\"data row10 col0\" >0.9002</td>\n",
       "      <td id=\"T_06f79_row10_col1\" class=\"data row10 col1\" >0.9207</td>\n",
       "      <td id=\"T_06f79_row10_col2\" class=\"data row10 col2\" >0.6129</td>\n",
       "      <td id=\"T_06f79_row10_col3\" class=\"data row10 col3\" >0.7032</td>\n",
       "      <td id=\"T_06f79_row10_col4\" class=\"data row10 col4\" >0.6545</td>\n",
       "      <td id=\"T_06f79_row10_col5\" class=\"data row10 col5\" >0.5965</td>\n",
       "      <td id=\"T_06f79_row10_col6\" class=\"data row10 col6\" >0.5988</td>\n",
       "    </tr>\n",
       "    <tr>\n",
       "      <th id=\"T_06f79_level0_row11\" class=\"row_heading level0 row11\" >Std</th>\n",
       "      <td id=\"T_06f79_row11_col0\" class=\"data row11 col0\" >0.0084</td>\n",
       "      <td id=\"T_06f79_row11_col1\" class=\"data row11 col1\" >0.0139</td>\n",
       "      <td id=\"T_06f79_row11_col2\" class=\"data row11 col2\" >0.0443</td>\n",
       "      <td id=\"T_06f79_row11_col3\" class=\"data row11 col3\" >0.0277</td>\n",
       "      <td id=\"T_06f79_row11_col4\" class=\"data row11 col4\" >0.0341</td>\n",
       "      <td id=\"T_06f79_row11_col5\" class=\"data row11 col5\" >0.0385</td>\n",
       "      <td id=\"T_06f79_row11_col6\" class=\"data row11 col6\" >0.0378</td>\n",
       "    </tr>\n",
       "  </tbody>\n",
       "</table>\n"
      ],
      "text/plain": [
       "<pandas.io.formats.style.Styler at 0x29feb25a350>"
      ]
     },
     "metadata": {},
     "output_type": "display_data"
    },
    {
     "data": {
      "text/html": [],
      "text/plain": [
       "<IPython.core.display.HTML object>"
      ]
     },
     "metadata": {},
     "output_type": "display_data"
    },
    {
     "name": "stdout",
     "output_type": "stream",
     "text": [
      "Fitting 10 folds for each of 10 candidates, totalling 100 fits\n"
     ]
    }
   ],
   "source": [
    "tuning = tune_model(gbc)"
   ]
  },
  {
   "cell_type": "code",
   "execution_count": 37,
   "id": "054872af",
   "metadata": {},
   "outputs": [
    {
     "data": {
      "text/html": [],
      "text/plain": [
       "<IPython.core.display.HTML object>"
      ]
     },
     "metadata": {},
     "output_type": "display_data"
    },
    {
     "data": {
      "image/png": "[encoded data removed]",
      "text/plain": [
       "<Figure size 800x550 with 1 Axes>"
      ]
     },
     "metadata": {},
     "output_type": "display_data"
    }
   ],
   "source": [
    "plot_model(tuning, plot = 'confusion_matrix')"
   ]
  },
  {
   "cell_type": "code",
   "execution_count": 38,
   "id": "a03e60ba",
   "metadata": {},
   "outputs": [
    {
     "data": {
      "text/html": [],
      "text/plain": [
       "<IPython.core.display.HTML object>"
      ]
     },
     "metadata": {},
     "output_type": "display_data"
    },
    {
     "data": {
      "image/png": "[encoded data removed]",
      "text/plain": [
       "<Figure size 800x500 with 1 Axes>"
      ]
     },
     "metadata": {},
     "output_type": "display_data"
    }
   ],
   "source": [
    "# Visualizando os atributos mais relevantes para a classificação\n",
    "plot_model(tuning, plot='feature')"
   ]
  },
  {
   "cell_type": "markdown",
   "id": "20aafcc8",
   "metadata": {},
   "source": [
    "## Features mais importantes"
   ]
  },
  {
   "cell_type": "code",
   "execution_count": 39,
   "id": "c849bb87",
   "metadata": {},
   "outputs": [
    {
     "data": {
      "text/html": [],
      "text/plain": [
       "<IPython.core.display.HTML object>"
      ]
     },
     "metadata": {},
     "output_type": "display_data"
    },
    {
     "data": {
      "text/html": [
       "<style type=\"text/css\">\n",
       "#T_b349b_row10_col0, #T_b349b_row10_col1, #T_b349b_row10_col2, #T_b349b_row10_col3, #T_b349b_row10_col4, #T_b349b_row10_col5, #T_b349b_row10_col6 {\n",
       "  background: yellow;\n",
       "}\n",
       "</style>\n",
       "<table id=\"T_b349b\">\n",
       "  <thead>\n",
       "    <tr>\n",
       "      <th class=\"blank level0\" >&nbsp;</th>\n",
       "      <th id=\"T_b349b_level0_col0\" class=\"col_heading level0 col0\" >Accuracy</th>\n",
       "      <th id=\"T_b349b_level0_col1\" class=\"col_heading level0 col1\" >AUC</th>\n",
       "      <th id=\"T_b349b_level0_col2\" class=\"col_heading level0 col2\" >Recall</th>\n",
       "      <th id=\"T_b349b_level0_col3\" class=\"col_heading level0 col3\" >Prec.</th>\n",
       "      <th id=\"T_b349b_level0_col4\" class=\"col_heading level0 col4\" >F1</th>\n",
       "      <th id=\"T_b349b_level0_col5\" class=\"col_heading level0 col5\" >Kappa</th>\n",
       "      <th id=\"T_b349b_level0_col6\" class=\"col_heading level0 col6\" >MCC</th>\n",
       "    </tr>\n",
       "    <tr>\n",
       "      <th class=\"index_name level0\" >Fold</th>\n",
       "      <th class=\"blank col0\" >&nbsp;</th>\n",
       "      <th class=\"blank col1\" >&nbsp;</th>\n",
       "      <th class=\"blank col2\" >&nbsp;</th>\n",
       "      <th class=\"blank col3\" >&nbsp;</th>\n",
       "      <th class=\"blank col4\" >&nbsp;</th>\n",
       "      <th class=\"blank col5\" >&nbsp;</th>\n",
       "      <th class=\"blank col6\" >&nbsp;</th>\n",
       "    </tr>\n",
       "  </thead>\n",
       "  <tbody>\n",
       "    <tr>\n",
       "      <th id=\"T_b349b_level0_row0\" class=\"row_heading level0 row0\" >0</th>\n",
       "      <td id=\"T_b349b_row0_col0\" class=\"data row0 col0\" >0.8739</td>\n",
       "      <td id=\"T_b349b_row0_col1\" class=\"data row0 col1\" >0.8205</td>\n",
       "      <td id=\"T_b349b_row0_col2\" class=\"data row0 col2\" >0.3444</td>\n",
       "      <td id=\"T_b349b_row0_col3\" class=\"data row0 col3\" >0.6889</td>\n",
       "      <td id=\"T_b349b_row0_col4\" class=\"data row0 col4\" >0.4593</td>\n",
       "      <td id=\"T_b349b_row0_col5\" class=\"data row0 col5\" >0.3967</td>\n",
       "      <td id=\"T_b349b_row0_col6\" class=\"data row0 col6\" >0.4274</td>\n",
       "    </tr>\n",
       "    <tr>\n",
       "      <th id=\"T_b349b_level0_row1\" class=\"row_heading level0 row1\" >1</th>\n",
       "      <td id=\"T_b349b_row1_col0\" class=\"data row1 col0\" >0.8929</td>\n",
       "      <td id=\"T_b349b_row1_col1\" class=\"data row1 col1\" >0.8847</td>\n",
       "      <td id=\"T_b349b_row1_col2\" class=\"data row1 col2\" >0.4444</td>\n",
       "      <td id=\"T_b349b_row1_col3\" class=\"data row1 col3\" >0.7692</td>\n",
       "      <td id=\"T_b349b_row1_col4\" class=\"data row1 col4\" >0.5634</td>\n",
       "      <td id=\"T_b349b_row1_col5\" class=\"data row1 col5\" >0.5073</td>\n",
       "      <td id=\"T_b349b_row1_col6\" class=\"data row1 col6\" >0.5321</td>\n",
       "    </tr>\n",
       "    <tr>\n",
       "      <th id=\"T_b349b_level0_row2\" class=\"row_heading level0 row2\" >2</th>\n",
       "      <td id=\"T_b349b_row2_col0\" class=\"data row2 col0\" >0.8702</td>\n",
       "      <td id=\"T_b349b_row2_col1\" class=\"data row2 col1\" >0.8117</td>\n",
       "      <td id=\"T_b349b_row2_col2\" class=\"data row2 col2\" >0.3596</td>\n",
       "      <td id=\"T_b349b_row2_col3\" class=\"data row2 col3\" >0.6400</td>\n",
       "      <td id=\"T_b349b_row2_col4\" class=\"data row2 col4\" >0.4604</td>\n",
       "      <td id=\"T_b349b_row2_col5\" class=\"data row2 col5\" >0.3932</td>\n",
       "      <td id=\"T_b349b_row2_col6\" class=\"data row2 col6\" >0.4144</td>\n",
       "    </tr>\n",
       "    <tr>\n",
       "      <th id=\"T_b349b_level0_row3\" class=\"row_heading level0 row3\" >3</th>\n",
       "      <td id=\"T_b349b_row3_col0\" class=\"data row3 col0\" >0.8875</td>\n",
       "      <td id=\"T_b349b_row3_col1\" class=\"data row3 col1\" >0.8774</td>\n",
       "      <td id=\"T_b349b_row3_col2\" class=\"data row3 col2\" >0.4270</td>\n",
       "      <td id=\"T_b349b_row3_col3\" class=\"data row3 col3\" >0.7308</td>\n",
       "      <td id=\"T_b349b_row3_col4\" class=\"data row3 col4\" >0.5390</td>\n",
       "      <td id=\"T_b349b_row3_col5\" class=\"data row3 col5\" >0.4799</td>\n",
       "      <td id=\"T_b349b_row3_col6\" class=\"data row3 col6\" >0.5025</td>\n",
       "    </tr>\n",
       "    <tr>\n",
       "      <th id=\"T_b349b_level0_row4\" class=\"row_heading level0 row4\" >4</th>\n",
       "      <td id=\"T_b349b_row4_col0\" class=\"data row4 col0\" >0.8720</td>\n",
       "      <td id=\"T_b349b_row4_col1\" class=\"data row4 col1\" >0.8015</td>\n",
       "      <td id=\"T_b349b_row4_col2\" class=\"data row4 col2\" >0.3034</td>\n",
       "      <td id=\"T_b349b_row4_col3\" class=\"data row4 col3\" >0.6923</td>\n",
       "      <td id=\"T_b349b_row4_col4\" class=\"data row4 col4\" >0.4219</td>\n",
       "      <td id=\"T_b349b_row4_col5\" class=\"data row4 col5\" >0.3620</td>\n",
       "      <td id=\"T_b349b_row4_col6\" class=\"data row4 col6\" >0.4012</td>\n",
       "    </tr>\n",
       "    <tr>\n",
       "      <th id=\"T_b349b_level0_row5\" class=\"row_heading level0 row5\" >5</th>\n",
       "      <td id=\"T_b349b_row5_col0\" class=\"data row5 col0\" >0.8772</td>\n",
       "      <td id=\"T_b349b_row5_col1\" class=\"data row5 col1\" >0.8239</td>\n",
       "      <td id=\"T_b349b_row5_col2\" class=\"data row5 col2\" >0.3483</td>\n",
       "      <td id=\"T_b349b_row5_col3\" class=\"data row5 col3\" >0.7045</td>\n",
       "      <td id=\"T_b349b_row5_col4\" class=\"data row5 col4\" >0.4662</td>\n",
       "      <td id=\"T_b349b_row5_col5\" class=\"data row5 col5\" >0.4056</td>\n",
       "      <td id=\"T_b349b_row5_col6\" class=\"data row5 col6\" >0.4379</td>\n",
       "    </tr>\n",
       "    <tr>\n",
       "      <th id=\"T_b349b_level0_row6\" class=\"row_heading level0 row6\" >6</th>\n",
       "      <td id=\"T_b349b_row6_col0\" class=\"data row6 col0\" >0.8997</td>\n",
       "      <td id=\"T_b349b_row6_col1\" class=\"data row6 col1\" >0.8788</td>\n",
       "      <td id=\"T_b349b_row6_col2\" class=\"data row6 col2\" >0.4494</td>\n",
       "      <td id=\"T_b349b_row6_col3\" class=\"data row6 col3\" >0.8163</td>\n",
       "      <td id=\"T_b349b_row6_col4\" class=\"data row6 col4\" >0.5797</td>\n",
       "      <td id=\"T_b349b_row6_col5\" class=\"data row6 col5\" >0.5281</td>\n",
       "      <td id=\"T_b349b_row6_col6\" class=\"data row6 col6\" >0.5585</td>\n",
       "    </tr>\n",
       "    <tr>\n",
       "      <th id=\"T_b349b_level0_row7\" class=\"row_heading level0 row7\" >7</th>\n",
       "      <td id=\"T_b349b_row7_col0\" class=\"data row7 col0\" >0.8737</td>\n",
       "      <td id=\"T_b349b_row7_col1\" class=\"data row7 col1\" >0.8149</td>\n",
       "      <td id=\"T_b349b_row7_col2\" class=\"data row7 col2\" >0.4045</td>\n",
       "      <td id=\"T_b349b_row7_col3\" class=\"data row7 col3\" >0.6429</td>\n",
       "      <td id=\"T_b349b_row7_col4\" class=\"data row7 col4\" >0.4966</td>\n",
       "      <td id=\"T_b349b_row7_col5\" class=\"data row7 col5\" >0.4286</td>\n",
       "      <td id=\"T_b349b_row7_col6\" class=\"data row7 col6\" >0.4436</td>\n",
       "    </tr>\n",
       "    <tr>\n",
       "      <th id=\"T_b349b_level0_row8\" class=\"row_heading level0 row8\" >8</th>\n",
       "      <td id=\"T_b349b_row8_col0\" class=\"data row8 col0\" >0.8979</td>\n",
       "      <td id=\"T_b349b_row8_col1\" class=\"data row8 col1\" >0.8700</td>\n",
       "      <td id=\"T_b349b_row8_col2\" class=\"data row8 col2\" >0.4444</td>\n",
       "      <td id=\"T_b349b_row8_col3\" class=\"data row8 col3\" >0.8163</td>\n",
       "      <td id=\"T_b349b_row8_col4\" class=\"data row8 col4\" >0.5755</td>\n",
       "      <td id=\"T_b349b_row8_col5\" class=\"data row8 col5\" >0.5232</td>\n",
       "      <td id=\"T_b349b_row8_col6\" class=\"data row8 col6\" >0.5545</td>\n",
       "    </tr>\n",
       "    <tr>\n",
       "      <th id=\"T_b349b_level0_row9\" class=\"row_heading level0 row9\" >9</th>\n",
       "      <td id=\"T_b349b_row9_col0\" class=\"data row9 col0\" >0.8685</td>\n",
       "      <td id=\"T_b349b_row9_col1\" class=\"data row9 col1\" >0.8302</td>\n",
       "      <td id=\"T_b349b_row9_col2\" class=\"data row9 col2\" >0.3111</td>\n",
       "      <td id=\"T_b349b_row9_col3\" class=\"data row9 col3\" >0.6667</td>\n",
       "      <td id=\"T_b349b_row9_col4\" class=\"data row9 col4\" >0.4242</td>\n",
       "      <td id=\"T_b349b_row9_col5\" class=\"data row9 col5\" >0.3609</td>\n",
       "      <td id=\"T_b349b_row9_col6\" class=\"data row9 col6\" >0.3945</td>\n",
       "    </tr>\n",
       "    <tr>\n",
       "      <th id=\"T_b349b_level0_row10\" class=\"row_heading level0 row10\" >Mean</th>\n",
       "      <td id=\"T_b349b_row10_col0\" class=\"data row10 col0\" >0.8814</td>\n",
       "      <td id=\"T_b349b_row10_col1\" class=\"data row10 col1\" >0.8414</td>\n",
       "      <td id=\"T_b349b_row10_col2\" class=\"data row10 col2\" >0.3837</td>\n",
       "      <td id=\"T_b349b_row10_col3\" class=\"data row10 col3\" >0.7168</td>\n",
       "      <td id=\"T_b349b_row10_col4\" class=\"data row10 col4\" >0.4986</td>\n",
       "      <td id=\"T_b349b_row10_col5\" class=\"data row10 col5\" >0.4386</td>\n",
       "      <td id=\"T_b349b_row10_col6\" class=\"data row10 col6\" >0.4667</td>\n",
       "    </tr>\n",
       "    <tr>\n",
       "      <th id=\"T_b349b_level0_row11\" class=\"row_heading level0 row11\" >Std</th>\n",
       "      <td id=\"T_b349b_row11_col0\" class=\"data row11 col0\" >0.0114</td>\n",
       "      <td id=\"T_b349b_row11_col1\" class=\"data row11 col1\" >0.0307</td>\n",
       "      <td id=\"T_b349b_row11_col2\" class=\"data row11 col2\" >0.0539</td>\n",
       "      <td id=\"T_b349b_row11_col3\" class=\"data row11 col3\" >0.0618</td>\n",
       "      <td id=\"T_b349b_row11_col4\" class=\"data row11 col4\" >0.0581</td>\n",
       "      <td id=\"T_b349b_row11_col5\" class=\"data row11 col5\" >0.0620</td>\n",
       "      <td id=\"T_b349b_row11_col6\" class=\"data row11 col6\" >0.0607</td>\n",
       "    </tr>\n",
       "  </tbody>\n",
       "</table>\n"
      ],
      "text/plain": [
       "<pandas.io.formats.style.Styler at 0x29ffc2aef50>"
      ]
     },
     "metadata": {},
     "output_type": "display_data"
    },
    {
     "data": {
      "text/html": [],
      "text/plain": [
       "<IPython.core.display.HTML object>"
      ]
     },
     "metadata": {},
     "output_type": "display_data"
    },
    {
     "name": "stdout",
     "output_type": "stream",
     "text": [
      "Fitting 10 folds for each of 10 candidates, totalling 100 fits\n",
      "Original model was better than the tuned model, hence it will be returned. NOTE: The display metrics are for the tuned model (not the original one).\n"
     ]
    },
    {
     "data": {
      "text/html": [],
      "text/plain": [
       "<IPython.core.display.HTML object>"
      ]
     },
     "metadata": {},
     "output_type": "display_data"
    },
    {
     "data": {
      "image/png": "[encoded data removed]",
      "text/plain": [
       "<Figure size 800x500 with 1 Axes>"
      ]
     },
     "metadata": {},
     "output_type": "display_data"
    }
   ],
   "source": [
    "# Mostra as features mais importantes do modelo de regressão logística\n",
    "logisticreg = tune_model(lr)\n",
    "plot_model(logisticreg, plot='feature')"
   ]
  },
  {
   "cell_type": "code",
   "execution_count": 40,
   "id": "83e754c0",
   "metadata": {},
   "outputs": [
    {
     "data": {
      "text/html": [],
      "text/plain": [
       "<IPython.core.display.HTML object>"
      ]
     },
     "metadata": {},
     "output_type": "display_data"
    },
    {
     "data": {
      "text/html": [
       "<style type=\"text/css\">\n",
       "#T_ae312_row10_col0, #T_ae312_row10_col1, #T_ae312_row10_col2, #T_ae312_row10_col3, #T_ae312_row10_col4, #T_ae312_row10_col5, #T_ae312_row10_col6 {\n",
       "  background: yellow;\n",
       "}\n",
       "</style>\n",
       "<table id=\"T_ae312\">\n",
       "  <thead>\n",
       "    <tr>\n",
       "      <th class=\"blank level0\" >&nbsp;</th>\n",
       "      <th id=\"T_ae312_level0_col0\" class=\"col_heading level0 col0\" >Accuracy</th>\n",
       "      <th id=\"T_ae312_level0_col1\" class=\"col_heading level0 col1\" >AUC</th>\n",
       "      <th id=\"T_ae312_level0_col2\" class=\"col_heading level0 col2\" >Recall</th>\n",
       "      <th id=\"T_ae312_level0_col3\" class=\"col_heading level0 col3\" >Prec.</th>\n",
       "      <th id=\"T_ae312_level0_col4\" class=\"col_heading level0 col4\" >F1</th>\n",
       "      <th id=\"T_ae312_level0_col5\" class=\"col_heading level0 col5\" >Kappa</th>\n",
       "      <th id=\"T_ae312_level0_col6\" class=\"col_heading level0 col6\" >MCC</th>\n",
       "    </tr>\n",
       "    <tr>\n",
       "      <th class=\"index_name level0\" >Fold</th>\n",
       "      <th class=\"blank col0\" >&nbsp;</th>\n",
       "      <th class=\"blank col1\" >&nbsp;</th>\n",
       "      <th class=\"blank col2\" >&nbsp;</th>\n",
       "      <th class=\"blank col3\" >&nbsp;</th>\n",
       "      <th class=\"blank col4\" >&nbsp;</th>\n",
       "      <th class=\"blank col5\" >&nbsp;</th>\n",
       "      <th class=\"blank col6\" >&nbsp;</th>\n",
       "    </tr>\n",
       "  </thead>\n",
       "  <tbody>\n",
       "    <tr>\n",
       "      <th id=\"T_ae312_level0_row0\" class=\"row_heading level0 row0\" >0</th>\n",
       "      <td id=\"T_ae312_row0_col0\" class=\"data row0 col0\" >0.8981</td>\n",
       "      <td id=\"T_ae312_row0_col1\" class=\"data row0 col1\" >0.9129</td>\n",
       "      <td id=\"T_ae312_row0_col2\" class=\"data row0 col2\" >0.5889</td>\n",
       "      <td id=\"T_ae312_row0_col3\" class=\"data row0 col3\" >0.7067</td>\n",
       "      <td id=\"T_ae312_row0_col4\" class=\"data row0 col4\" >0.6424</td>\n",
       "      <td id=\"T_ae312_row0_col5\" class=\"data row0 col5\" >0.5836</td>\n",
       "      <td id=\"T_ae312_row0_col6\" class=\"data row0 col6\" >0.5869</td>\n",
       "    </tr>\n",
       "    <tr>\n",
       "      <th id=\"T_ae312_level0_row1\" class=\"row_heading level0 row1\" >1</th>\n",
       "      <td id=\"T_ae312_row1_col0\" class=\"data row1 col0\" >0.9050</td>\n",
       "      <td id=\"T_ae312_row1_col1\" class=\"data row1 col1\" >0.9286</td>\n",
       "      <td id=\"T_ae312_row1_col2\" class=\"data row1 col2\" >0.6333</td>\n",
       "      <td id=\"T_ae312_row1_col3\" class=\"data row1 col3\" >0.7215</td>\n",
       "      <td id=\"T_ae312_row1_col4\" class=\"data row1 col4\" >0.6746</td>\n",
       "      <td id=\"T_ae312_row1_col5\" class=\"data row1 col5\" >0.6192</td>\n",
       "      <td id=\"T_ae312_row1_col6\" class=\"data row1 col6\" >0.6210</td>\n",
       "    </tr>\n",
       "    <tr>\n",
       "      <th id=\"T_ae312_level0_row2\" class=\"row_heading level0 row2\" >2</th>\n",
       "      <td id=\"T_ae312_row2_col0\" class=\"data row2 col0\" >0.8927</td>\n",
       "      <td id=\"T_ae312_row2_col1\" class=\"data row2 col1\" >0.8979</td>\n",
       "      <td id=\"T_ae312_row2_col2\" class=\"data row2 col2\" >0.5506</td>\n",
       "      <td id=\"T_ae312_row2_col3\" class=\"data row2 col3\" >0.6901</td>\n",
       "      <td id=\"T_ae312_row2_col4\" class=\"data row2 col4\" >0.6125</td>\n",
       "      <td id=\"T_ae312_row2_col5\" class=\"data row2 col5\" >0.5512</td>\n",
       "      <td id=\"T_ae312_row2_col6\" class=\"data row2 col6\" >0.5559</td>\n",
       "    </tr>\n",
       "    <tr>\n",
       "      <th id=\"T_ae312_level0_row3\" class=\"row_heading level0 row3\" >3</th>\n",
       "      <td id=\"T_ae312_row3_col0\" class=\"data row3 col0\" >0.9100</td>\n",
       "      <td id=\"T_ae312_row3_col1\" class=\"data row3 col1\" >0.9364</td>\n",
       "      <td id=\"T_ae312_row3_col2\" class=\"data row3 col2\" >0.6292</td>\n",
       "      <td id=\"T_ae312_row3_col3\" class=\"data row3 col3\" >0.7467</td>\n",
       "      <td id=\"T_ae312_row3_col4\" class=\"data row3 col4\" >0.6829</td>\n",
       "      <td id=\"T_ae312_row3_col5\" class=\"data row3 col5\" >0.6310</td>\n",
       "      <td id=\"T_ae312_row3_col6\" class=\"data row3 col6\" >0.6341</td>\n",
       "    </tr>\n",
       "    <tr>\n",
       "      <th id=\"T_ae312_level0_row4\" class=\"row_heading level0 row4\" >4</th>\n",
       "      <td id=\"T_ae312_row4_col0\" class=\"data row4 col0\" >0.8824</td>\n",
       "      <td id=\"T_ae312_row4_col1\" class=\"data row4 col1\" >0.9058</td>\n",
       "      <td id=\"T_ae312_row4_col2\" class=\"data row4 col2\" >0.5169</td>\n",
       "      <td id=\"T_ae312_row4_col3\" class=\"data row4 col3\" >0.6479</td>\n",
       "      <td id=\"T_ae312_row4_col4\" class=\"data row4 col4\" >0.5750</td>\n",
       "      <td id=\"T_ae312_row4_col5\" class=\"data row4 col5\" >0.5077</td>\n",
       "      <td id=\"T_ae312_row4_col6\" class=\"data row4 col6\" >0.5121</td>\n",
       "    </tr>\n",
       "    <tr>\n",
       "      <th id=\"T_ae312_level0_row5\" class=\"row_heading level0 row5\" >5</th>\n",
       "      <td id=\"T_ae312_row5_col0\" class=\"data row5 col0\" >0.9100</td>\n",
       "      <td id=\"T_ae312_row5_col1\" class=\"data row5 col1\" >0.9047</td>\n",
       "      <td id=\"T_ae312_row5_col2\" class=\"data row5 col2\" >0.6629</td>\n",
       "      <td id=\"T_ae312_row5_col3\" class=\"data row5 col3\" >0.7284</td>\n",
       "      <td id=\"T_ae312_row5_col4\" class=\"data row5 col4\" >0.6941</td>\n",
       "      <td id=\"T_ae312_row5_col5\" class=\"data row5 col5\" >0.6415</td>\n",
       "      <td id=\"T_ae312_row5_col6\" class=\"data row5 col6\" >0.6425</td>\n",
       "    </tr>\n",
       "    <tr>\n",
       "      <th id=\"T_ae312_level0_row6\" class=\"row_heading level0 row6\" >6</th>\n",
       "      <td id=\"T_ae312_row6_col0\" class=\"data row6 col0\" >0.9118</td>\n",
       "      <td id=\"T_ae312_row6_col1\" class=\"data row6 col1\" >0.9235</td>\n",
       "      <td id=\"T_ae312_row6_col2\" class=\"data row6 col2\" >0.6404</td>\n",
       "      <td id=\"T_ae312_row6_col3\" class=\"data row6 col3\" >0.7500</td>\n",
       "      <td id=\"T_ae312_row6_col4\" class=\"data row6 col4\" >0.6909</td>\n",
       "      <td id=\"T_ae312_row6_col5\" class=\"data row6 col5\" >0.6398</td>\n",
       "      <td id=\"T_ae312_row6_col6\" class=\"data row6 col6\" >0.6425</td>\n",
       "    </tr>\n",
       "    <tr>\n",
       "      <th id=\"T_ae312_level0_row7\" class=\"row_heading level0 row7\" >7</th>\n",
       "      <td id=\"T_ae312_row7_col0\" class=\"data row7 col0\" >0.8858</td>\n",
       "      <td id=\"T_ae312_row7_col1\" class=\"data row7 col1\" >0.9252</td>\n",
       "      <td id=\"T_ae312_row7_col2\" class=\"data row7 col2\" >0.5843</td>\n",
       "      <td id=\"T_ae312_row7_col3\" class=\"data row7 col3\" >0.6420</td>\n",
       "      <td id=\"T_ae312_row7_col4\" class=\"data row7 col4\" >0.6118</td>\n",
       "      <td id=\"T_ae312_row7_col5\" class=\"data row7 col5\" >0.5450</td>\n",
       "      <td id=\"T_ae312_row7_col6\" class=\"data row7 col6\" >0.5458</td>\n",
       "    </tr>\n",
       "    <tr>\n",
       "      <th id=\"T_ae312_level0_row8\" class=\"row_heading level0 row8\" >8</th>\n",
       "      <td id=\"T_ae312_row8_col0\" class=\"data row8 col0\" >0.9083</td>\n",
       "      <td id=\"T_ae312_row8_col1\" class=\"data row8 col1\" >0.9471</td>\n",
       "      <td id=\"T_ae312_row8_col2\" class=\"data row8 col2\" >0.6778</td>\n",
       "      <td id=\"T_ae312_row8_col3\" class=\"data row8 col3\" >0.7176</td>\n",
       "      <td id=\"T_ae312_row8_col4\" class=\"data row8 col4\" >0.6971</td>\n",
       "      <td id=\"T_ae312_row8_col5\" class=\"data row8 col5\" >0.6432</td>\n",
       "      <td id=\"T_ae312_row8_col6\" class=\"data row8 col6\" >0.6435</td>\n",
       "    </tr>\n",
       "    <tr>\n",
       "      <th id=\"T_ae312_level0_row9\" class=\"row_heading level0 row9\" >9</th>\n",
       "      <td id=\"T_ae312_row9_col0\" class=\"data row9 col0\" >0.8962</td>\n",
       "      <td id=\"T_ae312_row9_col1\" class=\"data row9 col1\" >0.9164</td>\n",
       "      <td id=\"T_ae312_row9_col2\" class=\"data row9 col2\" >0.6000</td>\n",
       "      <td id=\"T_ae312_row9_col3\" class=\"data row9 col3\" >0.6923</td>\n",
       "      <td id=\"T_ae312_row9_col4\" class=\"data row9 col4\" >0.6429</td>\n",
       "      <td id=\"T_ae312_row9_col5\" class=\"data row9 col5\" >0.5825</td>\n",
       "      <td id=\"T_ae312_row9_col6\" class=\"data row9 col6\" >0.5845</td>\n",
       "    </tr>\n",
       "    <tr>\n",
       "      <th id=\"T_ae312_level0_row10\" class=\"row_heading level0 row10\" >Mean</th>\n",
       "      <td id=\"T_ae312_row10_col0\" class=\"data row10 col0\" >0.9000</td>\n",
       "      <td id=\"T_ae312_row10_col1\" class=\"data row10 col1\" >0.9198</td>\n",
       "      <td id=\"T_ae312_row10_col2\" class=\"data row10 col2\" >0.6084</td>\n",
       "      <td id=\"T_ae312_row10_col3\" class=\"data row10 col3\" >0.7043</td>\n",
       "      <td id=\"T_ae312_row10_col4\" class=\"data row10 col4\" >0.6524</td>\n",
       "      <td id=\"T_ae312_row10_col5\" class=\"data row10 col5\" >0.5945</td>\n",
       "      <td id=\"T_ae312_row10_col6\" class=\"data row10 col6\" >0.5969</td>\n",
       "    </tr>\n",
       "    <tr>\n",
       "      <th id=\"T_ae312_level0_row11\" class=\"row_heading level0 row11\" >Std</th>\n",
       "      <td id=\"T_ae312_row11_col0\" class=\"data row11 col0\" >0.0101</td>\n",
       "      <td id=\"T_ae312_row11_col1\" class=\"data row11 col1\" >0.0145</td>\n",
       "      <td id=\"T_ae312_row11_col2\" class=\"data row11 col2\" >0.0476</td>\n",
       "      <td id=\"T_ae312_row11_col3\" class=\"data row11 col3\" >0.0352</td>\n",
       "      <td id=\"T_ae312_row11_col4\" class=\"data row11 col4\" >0.0401</td>\n",
       "      <td id=\"T_ae312_row11_col5\" class=\"data row11 col5\" >0.0455</td>\n",
       "      <td id=\"T_ae312_row11_col6\" class=\"data row11 col6\" >0.0448</td>\n",
       "    </tr>\n",
       "  </tbody>\n",
       "</table>\n"
      ],
      "text/plain": [
       "<pandas.io.formats.style.Styler at 0x29f8f3aff50>"
      ]
     },
     "metadata": {},
     "output_type": "display_data"
    },
    {
     "data": {
      "text/html": [],
      "text/plain": [
       "<IPython.core.display.HTML object>"
      ]
     },
     "metadata": {},
     "output_type": "display_data"
    },
    {
     "name": "stdout",
     "output_type": "stream",
     "text": [
      "Fitting 10 folds for each of 10 candidates, totalling 100 fits\n"
     ]
    },
    {
     "data": {
      "text/html": [],
      "text/plain": [
       "<IPython.core.display.HTML object>"
      ]
     },
     "metadata": {},
     "output_type": "display_data"
    },
    {
     "data": {
      "image/png": "[encoded data removed]",
      "text/plain": [
       "<Figure size 800x500 with 1 Axes>"
      ]
     },
     "metadata": {},
     "output_type": "display_data"
    }
   ],
   "source": [
    "# Mostra as features mais importantes do modelo Gradient Boosting Classifier\n",
    "gradienttune = tune_model(gradient)\n",
    "plot_model(gradienttune, plot='feature')"
   ]
  }
 ],
 "metadata": {
  "kernelspec": {
   "display_name": "Python 3 (ipykernel)",
   "language": "python",
   "name": "python3"
  },
  "language_info": {
   "codemirror_mode": {
    "name": "ipython",
    "version": 3
   },
   "file_extension": ".py",
   "mimetype": "text/x-python",
   "name": "python",
   "nbconvert_exporter": "python",
   "pygments_lexer": "ipython3",
   "version": "3.11.3"
  }
 },
 "nbformat": 4,
 "nbformat_minor": 5
}
